{
 "cells": [
  {
   "cell_type": "markdown",
   "metadata": {},
   "source": [
    "# Lecture 1: Python & Numpy Tutorials\n",
    "\n",
    "Ref:  http://cs231n.github.io/python-numpy-tutorial/\n",
    "\n",
    "\n",
    "The Python programming language is a widely used tool for basic research and engineering. Its rapid rise in popularity is supported by comprehensive, largely open-source, contributions from scientists who use it for their own work.\n",
    "\n",
    "There are currently two different supported versions of Python, 2.7 and 3.7, if you install using Anaconda (as of September 2019). Python 3.X introduced many backwards-incompatible changes to the language, so code written for 2.7 may not work under 3.7 and vice versa. \n",
    "\n",
    "Python itself is a programming language that stands on its own. It can be incorporated into other more complex, and potentially more useful interfaces. To solve problem with python, at a minimum you will need a text editor. With that you can read and write program files, and run them as a program either by having \"python\" read the file, or by making the file itself executable (as on Linux and Mac).\n",
    "\n",
    "This tutorial is written in the format of an ipython-notebook to be used in a Jupyter environment. The widely-used Jupyter system has been under development for more than a decade and is mature. You can read about it and even preview its capabilities on the web.  Unlike a simple Python program, the notebooks created by Jupyter are truly bodies of work that include data and analysis. It can be very useful for data documentation and exchange, and/or for educational media, as in this course.\n",
    "\n",
    "Ref: $Jupyter Notebook: An Introduction$  https://realpython.com/jupyter-notebook-introduction/\n",
    "\n",
    "\n",
    "## Basic data types\n",
    "\n",
    "Like most languages, Python has a number of basic types including $integers, floats, booleans$, and $lists, strings$. These data types behave in ways that are similar to other programming languages, such as R or MATLAB.\n",
    "https://docs.python.org/3.7/library/stdtypes.html\n",
    "\n",
    "Formally the principal built-in data types in Python are $numerics, sequences, mappings, classes$ and $exceptions$, which we will introduce later as we need them.\n",
    "\n",
    "\n",
    "\n",
    "### Numbers, Variables and Basic Expressions : \n",
    "Variables are created when they are first assigned values. (dynamical typing, unlike static typing in C or C++)\n",
    "\n",
    "Variables are replaced with their values when used in expressions. \n",
    "\n",
    "Variables must be assigned before they can be used in expressions. \n",
    "\n",
    "Integers and floats work as you would expect from other languages:"
   ]
  },
  {
   "cell_type": "code",
   "execution_count": 1,
   "metadata": {},
   "outputs": [
    {
     "name": "stdout",
     "output_type": "stream",
     "text": [
      "ok\n",
      "70.06652\n"
     ]
    },
    {
     "data": {
      "text/plain": [
       "2.948717948717949"
      ]
     },
     "execution_count": 1,
     "metadata": {},
     "output_type": "execute_result"
    }
   ],
   "source": [
    "print('ok')\n",
    "a=12.34*5.678\n",
    "print(a)\n",
    "23/7.8"
   ]
  },
  {
   "cell_type": "code",
   "execution_count": null,
   "metadata": {},
   "outputs": [],
   "source": [
    "print(11+3, 2.4*3, 1/3, 14//3, 14//3.0)  #// take just the integer part\n",
    "x = 3.2          # assignment\n",
    "print(type(x)) # Prints \"<class 'int'>\"\n",
    "print(x)       # Prints \"3\"\n",
    "print(x + 1)   # Addition; prints \"4\"\n",
    "print(x - 1)   # Subtraction; prints \"2\"\n",
    "print(x * 2)   # Multiplication; prints \"6\"\n",
    "print(x ** 2)  # Exponentiation; prints \"9\"\n",
    "x += 1  # x=x+1\n",
    "print(x)  # Prints \"4\"\n",
    "x *= 2    # x=x*2\n",
    "print(x)  # Prints \"8\"\n",
    "y = 2.5\n",
    "print(type(y)) # Prints \"<class 'float'>\"\n",
    "print(y, y + 1, y * 2, y ** 2) # Prints \"2.5 3.5 5.0 6.25\""
   ]
  },
  {
   "cell_type": "markdown",
   "metadata": {},
   "source": [
    "Python 3.X integers support unlimited size, i.e. Python 3.X’s integer type automatically provides extra precision for large numbers like 2**1000 when needed (in 2.X, a separate long integer type handles numbers too large for the normal integer type in similar ways)."
   ]
  },
  {
   "cell_type": "code",
   "execution_count": null,
   "metadata": {},
   "outputs": [],
   "source": [
    "x=2 ** 1000\n",
    "print(x, type(x))\n",
    "len(str(2 ** 1000000))   #How many digits in a really BIG number?"
   ]
  },
  {
   "cell_type": "markdown",
   "metadata": {},
   "source": [
    " ### Built-in Numeric Tools \n",
    " Python also provides both built-in functions and standard library modules for numeric processing. The pow and abs built-in functions, for instance, compute powers and absolute values, respectively. Here are some examples of the built-in math module (which contains most of the tools in the C language’s math library) "
   ]
  },
  {
   "cell_type": "code",
   "execution_count": null,
   "metadata": {},
   "outputs": [],
   "source": [
    "import math \n",
    "print(math.floor(2.5), math.floor(-2.5), math.trunc(2.5), math.trunc(-2.5))\n",
    "print( math.pi, math.e, math.sqrt(144), math.sqrt(2), math.log(math.e))\n",
    "print( pow(2, 4), 2 ** 4, 2.0 ** 4.0 )\n",
    "print( pow(2, -0.2), 2 ** -0.2, 2.0 ** -0.2 )\n",
    "import random \n",
    "print(random.gauss(-10,15))\n",
    "random.randint(1, 80) "
   ]
  },
  {
   "cell_type": "markdown",
   "metadata": {},
   "source": [
    "### Booleans: \n",
    "Python implements all of the usual operators for Boolean logic, but uses English words rather than symbols (&&, ||, etc.):"
   ]
  },
  {
   "cell_type": "code",
   "execution_count": null,
   "metadata": {},
   "outputs": [],
   "source": [
    "t = True\n",
    "f = False\n",
    "print(type(t)) # Prints \"<class 'bool'>\"\n",
    "print(t and f) # Logical AND; prints \"False\"\n",
    "print(t or f)  # Logical OR; prints \"True\"\n",
    "print(not t)   # Logical NOT; prints \"False\"\n",
    "print(t != f)  # Logical XOR; prints \"True\"\n",
    "a=5\n",
    "b=9\n",
    "print(a>b, a<b, a==b)"
   ]
  },
  {
   "cell_type": "markdown",
   "metadata": {},
   "source": [
    "### Strings: \n",
    "Python has great support for strings:"
   ]
  },
  {
   "cell_type": "code",
   "execution_count": null,
   "metadata": {},
   "outputs": [],
   "source": [
    "hello = 'hello'    # String literals can use single quotes\n",
    "world = \"world\"    # or double quotes; it does not matter.\n",
    "print(hello)       # Prints \"hello\"\n",
    "print(len(hello))  # String length; prints \"5\"\n",
    "hw = hello + ' ' + world  # String concatenation\n",
    "print(hw, hw*3)  # prints \"hello world\"\n",
    "hw12 = '%s %s %d' % (hello, world, 12)  # sprintf style string formatting\n",
    "print(hw12)  # prints \"hello world 12\"\n",
    "print(str.capitalize('asdf'), str.upper('asdf'))\n"
   ]
  },
  {
   "cell_type": "markdown",
   "metadata": {},
   "source": [
    "https://docs.python.org/3.5/library/stdtypes.html#string-methods\n",
    "\n",
    "String objects have a bunch of useful methods; for example:"
   ]
  },
  {
   "cell_type": "code",
   "execution_count": null,
   "metadata": {},
   "outputs": [],
   "source": [
    "s = \"hello\"\n",
    "print(s.capitalize())  # Capitalize a string; prints \"Hello\"\n",
    "print(s.upper())       # Convert a string to uppercase; prints \"HELLO\"\n",
    "print(s.rjust(9))      # Right-justify a string, padding with spaces; \n",
    "print(s.center(9))     # Center a string, padding with spaces; \n",
    "print(s.replace('l', '(xy)'))  #Replace all instances of 1substring with another\n",
    "print('  world '.strip())  # Strip leading and trailing whitespace; \n",
    "print('   spacious   '.lstrip())\n",
    "print('   spacious   '.rstrip())\n",
    "print('1,2,3'.split(','))\n",
    "print('1,2,,3,'.split(','))"
   ]
  },
  {
   "cell_type": "code",
   "execution_count": null,
   "metadata": {},
   "outputs": [],
   "source": [
    "S = 'studentName=John_Doe'\n",
    "print(len(S))\n",
    "#Strings are ordered collections of characters, so we can access their\n",
    "#components by position.\n",
    "print(S[:], S[0], S[-2], S[1:6])     # Indexing from front or end\n",
    "print(S[2:], S[:-1])           #Slicing: extract a section; \n",
    "print(S[1:len(S):4])          #Skipping items; S[i:j:k] from i to k (exclusive) every k characters\n",
    "print(S[::-1], S[13:3:-1])            # Reversing items"
   ]
  },
  {
   "cell_type": "markdown",
   "metadata": {},
   "source": [
    "# Containers (Data Structures)\n",
    "\n",
    "Python stores data in several different ways, but the most popular methods are $lists$ and $dictionaries$.\n",
    "The Python built-in data-containers are: lists, dictionaries, sets, and tuples.\n",
    "\n",
    "## Lists\n",
    "A list, denoted by [  ], is the Python equivalent of an array, but is resizeable and can contain elements of different types. Operating on the elements in a list can only be done through iterative loops, which is computationally inefficient in Python."
   ]
  },
  {
   "cell_type": "code",
   "execution_count": null,
   "metadata": {},
   "outputs": [],
   "source": [
    "xs = [3, 1, 2]    # Create a list\n",
    "print(xs, xs[2])  # Prints \"[3, 1, 2] 2\"\n",
    "print(xs[-1])     # Negative indices count from the end of the list; prints \"2\"\n",
    "xs[2] = 'foo'     # Lists can contain elements of different types\n",
    "print(xs)         # Prints \"[3, 1, 'foo']\"\n",
    "xs.append('bar')  # Add a new element to the end of the list\n",
    "print(xs)         # Prints \"[3, 1, 'foo', 'bar']\"\n",
    "x = xs.pop()      # Remove and return the last element of the list\n",
    "print(x, xs)      # Prints \"bar [3, 1, 'foo']\""
   ]
  },
  {
   "cell_type": "code",
   "execution_count": null,
   "metadata": {},
   "outputs": [],
   "source": [
    "nums = list(range(5))   # range is a built-in function that creates a list of integers\n",
    "print(nums)             # Prints \"[0, 1, 2, 3, 4]\"\n",
    "print(nums[2:4])        # Get a slice from index 2 to 4 (exclusive); prints \"[2, 3]\"\n",
    "print(nums[2:])         # Get a slice from index 2 to the end; prints \"[2, 3, 4]\"\n",
    "print(nums[:2])         # Get a slice from the start to index 2 (exclusive); prints \"[0, 1]\"\n",
    "print(nums[:])          # Get a slice of the whole list; prints \"[0, 1, 2, 3, 4]\"\n",
    "print(nums[:-1])        # Slice indices can be negative; prints \"[0, 1, 2, 3]\"\n",
    "print(nums[:-2])        # \"[0, 1, 2]\"\n",
    "nums[2:4] = [8, 9]      # Assign a new sublist to a slice\n",
    "print(nums)             # Prints \"[0, 1, 8, 9, 4]\""
   ]
  },
  {
   "cell_type": "markdown",
   "metadata": {},
   "source": [
    "### Loops/iterations: \n",
    "We can loop (iterate) over the elements of a string or list, which are called 'iterables'."
   ]
  },
  {
   "cell_type": "code",
   "execution_count": null,
   "metadata": {},
   "outputs": [],
   "source": [
    "s1='Mary'\n",
    "for x in s1: print(x)\n",
    "    \n",
    "animals = ['cat', 'dog', 'monkey']\n",
    "for animal in animals:\n",
    "    print(animal)\n",
    "# Prints \"cat\", \"dog\", \"monkey\", each on its own line."
   ]
  },
  {
   "cell_type": "code",
   "execution_count": null,
   "metadata": {},
   "outputs": [],
   "source": [
    "#to access to the index of each element within the body of a loop, use the built-in enumerate function:\n",
    "#https://docs.python.org/3/library/functions.html#enumerate\n",
    "animals = ['cat', 'dog', 'monkey', 'horse']\n",
    "for idx, animal in enumerate(animals):\n",
    "    print('#%d: %s' % (idx + 1, animal))\n",
    "# Prints \"#1: cat\", \"#2: dog\", \"#3: monkey\", each on its own line"
   ]
  },
  {
   "cell_type": "code",
   "execution_count": null,
   "metadata": {
    "scrolled": false
   },
   "outputs": [],
   "source": [
    "nums = list(range(6))  #nums = [0, 1, 2, 3, 4]\n",
    "squares = []\n",
    "for x in nums:\n",
    "    squares.append(x**2)\n",
    "print(squares)   # Prints [0, 1, 4, 9, 16]\n",
    "for x in range(6):  print(x**2)\n",
    "#for i in range(1,11,2): print(i)   #range(i,j,k) i=start, j=stop, k=step\n",
    "#for i in range(-9,-1,2): print(i) \n",
    "for i in range(-4,-11,-2): print('*',i) \n",
    "for i in xrange(-1,-11,-2): print(i)  #in Python 3.x xrange does not exist anymore!? watch out!\n",
    "for i in xrange(1,11,2): print(i)  #for most cases range & xrange are the same"
   ]
  },
  {
   "cell_type": "markdown",
   "metadata": {},
   "source": [
    "### Generating a list by loop"
   ]
  },
  {
   "cell_type": "code",
   "execution_count": null,
   "metadata": {},
   "outputs": [],
   "source": [
    "nums = [0, 1, 2, 3, 4]  # simpler code using a list comprehension:\n",
    "squares = [x ** 2 for x in nums]\n",
    "print(squares)   # Prints [0, 1, 4, 9, 16]"
   ]
  },
  {
   "cell_type": "code",
   "execution_count": null,
   "metadata": {},
   "outputs": [],
   "source": [
    "#nums = list(range(11))  # List comprehensions can also contain conditions\n",
    "odd_squares = [x ** 2 for x in range(13) if x % 2 == 1]\n",
    "print(odd_squares)  "
   ]
  },
  {
   "cell_type": "markdown",
   "metadata": {},
   "source": [
    "### Combining lists"
   ]
  },
  {
   "cell_type": "code",
   "execution_count": null,
   "metadata": {},
   "outputs": [],
   "source": [
    "L2=list(zip(['a', 'b', 'c'], [5, 2, 3])) #Zip together 2 lists to form new list\n",
    "print L2\n",
    "for x, y in zip(['Alice', 'Betty', 'Charlie'], [15, 22, 17]):\n",
    "    print x, y       #loop over a zipped-list"
   ]
  },
  {
   "cell_type": "markdown",
   "metadata": {},
   "source": [
    "### Dictionaries\n",
    "A dictionary, denoted by {   }, stores (key, value) pairs."
   ]
  },
  {
   "cell_type": "code",
   "execution_count": null,
   "metadata": {},
   "outputs": [],
   "source": [
    "d = {'cat': 'cute', 'dog': 'furry','boy':'fat'}  # Create a new dictionary\n",
    "print(d['cat'])       # Get an entry from a dictionary; prints \"cute\"\n",
    "print('caty' in d)     # Check if a dictionary has a given key; prints \"True\"\n",
    "print(d.keys()) \n",
    "d['fish'] = 'wet'     # Set an entry in a dictionary\n",
    "print(d['fish'])      # Prints \"wet\"\n",
    "# print(d['monkey'])  # KeyError: 'monkey' not a key of d\n",
    "print(d.get('monkey', 'N/A'))  # Get an element with a default; prints \"N/A\"\n",
    "print(d.get('fish', 'N/A'))    # Get an element with a default; prints \"wet\"\n",
    "del d['fish']         # Remove an element from a dictionary\n",
    "print(d.get('fish', 'N/A')) # \"fish\" is no longer a key; prints \"N/A\"\n",
    "print(d)"
   ]
  },
  {
   "cell_type": "code",
   "execution_count": null,
   "metadata": {},
   "outputs": [],
   "source": [
    "d0 = {'cat': 'animal', 'apple': 'fruit', 'snake': 'reptile', \\\n",
    "      'rose': 'flower'}\n",
    "print(d0)"
   ]
  },
  {
   "cell_type": "code",
   "execution_count": null,
   "metadata": {},
   "outputs": [],
   "source": [
    "d = {'adult': 2, 'old man': 3, 'cat': 4, 'spider': 8}\n",
    "for animal in d:\n",
    "    legs = d[animal]\n",
    "    print('%s has %d legs' % (animal, legs))\n",
    "# Prints \"A person has 2 legs\", \"A cat has 4 legs\", \"A spider has 8 legs\""
   ]
  },
  {
   "cell_type": "code",
   "execution_count": null,
   "metadata": {},
   "outputs": [],
   "source": [
    "d = {'person': 2, 'cat': 4, 'spider': 8}\n",
    "for animal, legs in d.items():\n",
    "    print('A %s has %d legs' % (animal, legs))\n",
    "# Prints \"A person has 2 legs\", \"A cat has 4 legs\", \"A spider has 8 legs\""
   ]
  },
  {
   "cell_type": "code",
   "execution_count": null,
   "metadata": {},
   "outputs": [],
   "source": [
    "nums = list(range(11))  # [0, 1, 2, 3, 4]\n",
    "even_num_to_square = {x: x ** 2 for x in nums if x % 2 == 0}\n",
    "print(even_num_to_square)  # Prints \"{0: 0, 2: 4, 4: 16}\""
   ]
  },
  {
   "cell_type": "markdown",
   "metadata": {},
   "source": [
    "### Sets\n",
    "A set, {  }, is an unordered collection of unique/distinct and immutable objects (elements) that supports operations corresponding to mathematical set theory.  By definition, an item appears only once in a set, no matter how many times it is added. "
   ]
  },
  {
   "cell_type": "code",
   "execution_count": null,
   "metadata": {},
   "outputs": [],
   "source": [
    "x = set('abcdea') \n",
    "y = set('bcdxyyz') \n",
    "print(x,y, x-y, y-x)  #difference\n",
    "print(x|y, x&y)     #union, intersection\n",
    "print(x^y)     #Symmetric difference (XOR) \n",
    "print(x > y, x < y)          # Superset, subset \n",
    "print('e' in x, 'e' in y)    # Membership \n",
    "#defined to work on all other collection types\n",
    "print('e' in 'europe',  22 in [11, 22, 33] ) \n"
   ]
  },
  {
   "cell_type": "code",
   "execution_count": null,
   "metadata": {},
   "outputs": [],
   "source": [
    "animals = {'cat', 'dog'}\n",
    "print('cat' in animals)   # Check if an element is in a set; prints \"True\"\n",
    "print('fish' in animals)  # prints \"False\"\n",
    "animals.add('fish')       # Add an element to a set\n",
    "print('fish' in animals)  # Prints \"True\"\n",
    "print(len(animals))       # Number of elements in a set; prints \"3\"\n",
    "animals.add('cat')        # Adding an element that is already in the set does nothing\n",
    "print(len(animals))       # Prints \"3\"\n",
    "animals.remove('cat')     # Remove an element from a set\n",
    "print(len(animals))       # Prints \"2\""
   ]
  },
  {
   "cell_type": "code",
   "execution_count": null,
   "metadata": {},
   "outputs": [],
   "source": [
    "animals = {'cat', 'dog', 'fish'}\n",
    "for idx, animal in enumerate(animals):\n",
    "    print('#%d: %s' % (idx + 1, animal))\n",
    "# Prints \"#1: fish\", \"#2: dog\", \"#3: cat\""
   ]
  },
  {
   "cell_type": "code",
   "execution_count": null,
   "metadata": {},
   "outputs": [],
   "source": [
    "from math import sqrt   \n",
    "nums = {int(sqrt(x)) for x in range(90)}  #set comprehensions\n",
    "print(nums)  # Prints \"{0, 1, 2, 3, 4, 5}\""
   ]
  },
  {
   "cell_type": "markdown",
   "metadata": {},
   "source": [
    "### Tuples\n",
    "A tuple is an (immutable) ordered list of values whose size and contents cannot be modified. A tuple is in many ways similar to a list; one of the most important differences is that tuples are of fixed length and can be used as keys in dictionaries and as elements of sets, while lists cannot."
   ]
  },
  {
   "cell_type": "code",
   "execution_count": null,
   "metadata": {},
   "outputs": [],
   "source": [
    "d = {(x, x + 1): x for x in range(10)}  # Create a dictionary with tuple keys\n",
    "t = (5, 6)        # Create a tuple\n",
    "print(type(t))    # Prints \"<class 'tuple'>\"\n",
    "print(d[t])       # Prints \"5\"\n",
    "print(d[(1, 2)])  # Prints \"1\""
   ]
  },
  {
   "cell_type": "markdown",
   "metadata": {},
   "source": [
    "### Control statements (if, elif,  else) and Ternary expressions \n",
    "The if statement controls the flow of program action.\n",
    "\n",
    "A ternary expression in Python allows you to combine an if-else block that produces a value into a single line or expression. The syntax for this in Python is:\n",
    "$value=[true-expr]$ if  $[condition]$ else $[false-expr]$\n",
    "\n",
    "It has the identical effect as the more verbose:\n",
    "\n",
    "if condition:    \n",
    "\n",
    "\\ \\ value = true-expr \n",
    "  \n",
    "else:   \n",
    "\n",
    "\\ \\ value = false-expr "
   ]
  },
  {
   "cell_type": "code",
   "execution_count": null,
   "metadata": {},
   "outputs": [],
   "source": [
    "x=7\n",
    "if x < 0:    print(\"It's negative\") \n",
    "if x < 0:    \n",
    "    print(\"It's negative\") \n",
    "elif x == 0:\n",
    "    print('Equal to zero') \n",
    "elif 0 < x < 5:    \n",
    "    print('Positive but smaller than 5') \n",
    "else:    \n",
    "    print('Positive and larger than or equal to 5') \n",
    "    \n",
    "print( 'Non-negative' if x >= 0 else 'Negative' )                   "
   ]
  },
  {
   "cell_type": "markdown",
   "metadata": {},
   "source": [
    "## Functions\n",
    "https://docs.python.org/3.5/tutorial/controlflow.html#defining-functions\n",
    "\n",
    "Python functions are defined using the def keyword"
   ]
  },
  {
   "cell_type": "code",
   "execution_count": null,
   "metadata": {},
   "outputs": [],
   "source": [
    "def sign(x):\n",
    "    if x > 0:\n",
    "        return 'positive'\n",
    "    elif x < 0:\n",
    "        return 'negative'\n",
    "    else:\n",
    "        return 'zero'\n",
    "\n",
    "for x in [-1, 0, 1]:\n",
    "    print(sign(x))\n",
    "# Prints \"negative\", \"zero\", \"positive\""
   ]
  },
  {
   "cell_type": "code",
   "execution_count": null,
   "metadata": {},
   "outputs": [],
   "source": [
    "def hello(name, loud=False):\n",
    "    if loud:\n",
    "        print('HELLO, %s!' % name.upper())\n",
    "    else:\n",
    "        print('Hello, %s' % name)\n",
    "\n",
    "hello('Bob') # Prints \"Hello, Bob\"\n",
    "hello('Fred', loud=True)  # Prints \"HELLO, FRED!\""
   ]
  },
  {
   "cell_type": "code",
   "execution_count": null,
   "metadata": {},
   "outputs": [],
   "source": [
    "def fib(n):    \n",
    "     \"\"\"Print a Fibonacci series up to n\"\"\"\n",
    "     a, b = 1, 2\n",
    "     while a < n:   #while loop\n",
    "         print(a)  #print(a, end=' ')\n",
    "         a, b = b, a+b\n",
    "     print('end')\n",
    "# Now call the function we just defined:\n",
    "fib(2000)"
   ]
  },
  {
   "cell_type": "code",
   "execution_count": null,
   "metadata": {},
   "outputs": [],
   "source": [
    "def fibon(n):    # write all Fibonacci numbers up to n\n",
    "     # Return a Fibonacci series up to n.\n",
    "     a, b = 2, 3\n",
    "     fib = [a, b]\n",
    "     while a < n:\n",
    "        a, b = b, a+b\n",
    "        fib.append(b)\n",
    "     return fib\n",
    "# Now call the function we just defined:\n",
    "print(fibon(200000))"
   ]
  },
  {
   "cell_type": "code",
   "execution_count": null,
   "metadata": {},
   "outputs": [],
   "source": [
    "import sys, time\n",
    "def factor3(n):  # find all factors of n\n",
    "  d = 2\n",
    "  factors = [ ]\n",
    "  while n % d == 0:\n",
    "    factors.append(d)\n",
    "    n = n/d\n",
    "  d = 3\n",
    "  while n > 1 and d*d <= n:\n",
    "    if n % d == 0:\n",
    "      factors.append(d)\n",
    "      n = n/d\n",
    "    else:\n",
    "      d = d + 2\n",
    "  if n > 1: \n",
    "    factors.append(n)\n",
    "  return factors\n",
    "t1 = time.time()\n",
    "xx=2**51 + 1\n",
    "xf=factor3(xx)\n",
    "print(len(xf), xf)\n",
    "xp=1\n",
    "for x in xf:\n",
    "    xp=xp*x\n",
    "print(xx, xp)\n",
    "\n",
    "dict={2:[2], 3:[3]}\n",
    "fib=fibon(xx)\n",
    "print(fib)\n",
    "for x in fib:\n",
    "  xf=factor3(x)\n",
    "  dict[x]=xf\n",
    "  print(x, len(xf), xf)\n",
    "#print(dict)\n",
    "t2 = time.time()\n",
    "print(\"time: \", t2 - t1)"
   ]
  },
  {
   "cell_type": "markdown",
   "metadata": {},
   "source": [
    "#### Assignment:\n",
    "1.1 When using 'print(dict)', the result of the printing a dictionary is not in order. \n",
    "Try write a code to print 'dict' in ascending or descending order of the key, using  d0 = {'cat': 'animal', 'apple': 'fruit', 'snake': 'reptile', 'rose': 'flower'} as an example. \n",
    "Hint: use the python function sorted() on keys().\n",
    "\n",
    "1.2 Write a function to count the number of all Fibonacci numbers less then N.\n",
    "\n",
    "1.3 Write a function to count the number of all prime numbers less then N.\n",
    "\n",
    "1.4 If N is a positive integer, the total number of positive integers that are relatively prime to N and less than N is denoted by $\\phi(N)$. It is  called the Euler function of $N$. For example, we have $\\phi(2)=1$, $\\phi(3)=\\phi(4)=2$, and if $p$ is a prime number then $\\phi(p)=p-1$.\n",
    "Write a python function to calculate $\\phi(N)$.\n",
    "\n",
    "1.5 A positive integer is called a perfect number if by adding all the positive divisors of the number (except itself), the result is the number itself. The first perfect number is 6 [=1+2+3]. Other perfect numbers include 28 [=1+2+7+4+14], 496 and 8128. Write a python function to calculate all perfect numbers less than or equal to N."
   ]
  },
  {
   "cell_type": "code",
   "execution_count": null,
   "metadata": {},
   "outputs": [],
   "source": [
    "mydict = {'carl':40,\n",
    "          'alan':2,\n",
    "          'bob':1,\n",
    "          'danny':3} \n",
    "for key in sorted(mydict.keys()):\n",
    "    print(\"%s: %s\" % (key, mydict[key])) "
   ]
  },
  {
   "cell_type": "markdown",
   "metadata": {},
   "source": [
    "\n",
    "## Classes\n",
    "If you do not have any previous experience with object-oriented (OO) programming, you may want to consult an introductory course or a tutorial on it so that you have a grasp of the basic concepts.\n",
    "\n",
    "Here is a very brief introduction of Object-Oriented Programming (OOP) to bring you to speed −\n",
    "\n",
    "    Class − A user-defined prototype for an object that defines a set of attributes that characterize any object of the class. The attributes are data members (class variables and instance variables) and methods, accessed via dot notation.\n",
    "\n",
    "    Class variable − A variable that is shared by all instances of a class. Class variables are defined within a class but outside any of the class's methods. Class variables are not used as frequently as instance variables are.\n",
    "\n",
    "    Data member − A class variable or instance variable that holds data associated with a class and its objects.\n",
    "\n",
    "    Function overloading − The assignment of more than one behavior to a particular function. The operation performed varies by the types of objects or arguments involved.\n",
    "\n",
    "    Instance variable − A variable that is defined inside a method and belongs only to the current instance of a class.\n",
    "\n",
    "    Inheritance − The transfer of the characteristics of a class to other classes that are derived from it.\n",
    "\n",
    "    Instance − An individual object of a certain class. An object obj that belongs to a class Circle, for example, is an instance of the class Circle.\n",
    "\n",
    "    Instantiation − The creation of an instance of a class.\n",
    "\n",
    "    Method − A special kind of function that is defined in a class definition.\n",
    "\n",
    "    Object − A unique instance of a data structure that's defined by its class. An object comprises both data members (class variables and instance variables) and methods.\n",
    "\n",
    "    Operator overloading − The assignment of more than one function to a particular operator.\n",
    "\n",
    "https://www.tutorialspoint.com/python/python_classes_objects.htm\n",
    "\n",
    "\n",
    "Simply speaking, objects are an encapsulation of variables and functions into a single entity. Objects get their variables and functions from classes. Classes are essentially a template to create your objects.\n",
    "\n",
    "Python has been an object-oriented language since it existed. Because of this, creating and using classes and objects are easy. The syntax for defining classes in Python is straightforward:"
   ]
  },
  {
   "cell_type": "code",
   "execution_count": null,
   "metadata": {},
   "outputs": [],
   "source": [
    "class Greeter(object):\n",
    "    # Constructor\n",
    "    def __init__(self, name):\n",
    "        self.name = name  # Create an instance variable\n",
    "\n",
    "    # Instance method\n",
    "    def greet(self, loud=False):\n",
    "        if loud:\n",
    "            print('HI, %s! Good Morning' % self.name.upper())\n",
    "        else:\n",
    "            print('Hello, %s, how are you' % self.name)\n",
    "\n",
    "g = Greeter('Maria')  # Construct an instance of the Greeter class\n",
    "g.greet()            # Call an instance method; prints \"Hello, Fred\"\n",
    "g.greet(loud=True)   # Call an instance method; prints \"HELLO, FRED!\""
   ]
  },
  {
   "cell_type": "code",
   "execution_count": null,
   "metadata": {},
   "outputs": [],
   "source": [
    "class friend(object):\n",
    "    #common variable for the class 'friend' shared by all instances\n",
    "    fCount = 0\n",
    "    #Constructor\n",
    "    def __init__(self, name, phone=0):\n",
    "        self.name = name  # Create an instance variable\n",
    "        if phone != 0:\n",
    "            self.phone = phone\n",
    "        else:\n",
    "            self.phone = 0\n",
    "        friend.fCount += 1  #fCount increases by 1 for each creation\n",
    "   \n",
    "    def displayCount(self):\n",
    "        print(\"Total friends: %d\" % friend.fCount)\n",
    "\n",
    "    # Instance methods\n",
    "    def greet(self, loud=False):\n",
    "        if loud:\n",
    "            print('HI, %s!' % self.name.upper())\n",
    "        else:\n",
    "            print('Hello, %s' % self.name)\n",
    "    def callc(self):\n",
    "        print(\"HI, %s's phone number is %d\" % (self.name.upper(), self.phone))\n",
    "\n",
    "f1 = friend('Maria', 223344)  # Construct an instance of the class\n",
    "f1.greet()   \n",
    "f1.displayCount() \n",
    "f2 = friend('John')\n",
    "\n",
    "f3 = friend('Zhang San', 11223345)\n",
    "         \n",
    "f1.callc() \n",
    "f2.greet()  \n",
    "f2.callc()\n",
    "f3.greet(True)  \n",
    "f3.displayCount()"
   ]
  },
  {
   "cell_type": "markdown",
   "metadata": {},
   "source": [
    "#### Assignment 1.6\n",
    "Write a $Student$ class to hold all information of a UIC student, which includes name, gender, birthday, major, the year began study in UIC,  a list of courses already taken, and a list of courses taking currently. Aslo provide the following functions in this $Student$ class:\n",
    "\n",
    "[1] add a course to the list of courses taking currently.\n",
    "\n",
    "[2] drop a course from the list of courses taking currently.\n",
    "\n",
    "[3] print the list of courses taking currently and the total number.\n",
    "\n",
    "[4] print the list of courses already taken and the total number.\n",
    "\n",
    "Write a simple python program to construct a $Student$ object with the name ='Mary Li' and all required information about her, then exercise/call the four functions above to show how they work."
   ]
  },
  {
   "cell_type": "markdown",
   "metadata": {
    "collapsed": true
   },
   "source": [
    "# Numpy\n",
    "NumPy is the fundamental Python package for scientific computing. It adds the capabilities of N-dimensional arrays, element-by-element operations (broadcasting), core mathematical operations like linear algebra, and the ability to wrap C/C++/Fortran code.\n",
    "\n",
    "One of the reasons NumPy is so important for numerical computations in Python is because it is designed for efficiency on large arrays of data. There are a number of reasons for this: \n",
    "\n",
    "• NumPy internally stores data in a contiguous block of memory, independent of other built-in Python objects. NumPy’s library of algorithms written in the C language can operate on this memory without any type checking or other overhead. NumPy arrays also use much less memory than built-in Python sequences. \n",
    "\n",
    "• NumPy operations perform complex computations on entire arrays without the need for Python for loops.\n",
    "\n",
    "\n",
    "## Arrays\n",
    "A Python $list$ object can store nearly any type of Python object as an element. However, a numpy $array$ is a grid of values, all of the same type, and is indexed by a tuple of nonnegative integers. The number of dimensions is the $\\bf{rank}$ of the array; the $\\bf{shape}$ of an array is a tuple of integers giving the size of the array along each dimension.\n",
    "With NumPy arrays, you can only store the same type of element, e.g., all elements must be floats, integers, or strings. However, when it comes to operation times,  the NumPy $array$ operations are sped up significantly over that of Python $list$, because operation on the elements in a $list$ can only be done through iterative loops, which is computationally inefficient in Python.\n",
    "\n",
    "NumPy-based algorithms are generally 10 to 100 times faster (or more) than their pure Python counterparts and use significantly less memory. \n",
    "\n",
    "We can initialize numpy arrays from nested Python lists, and access elements using square brackets:"
   ]
  },
  {
   "cell_type": "code",
   "execution_count": null,
   "metadata": {},
   "outputs": [],
   "source": [
    "import numpy as np\n",
    "my_arr = np.arange(1000000)\n",
    "my_list = list(range(1000000)) \n",
    "# to test the speed of np array operation\n",
    "# from chapter4 of \"Python for Data Analysis Data Wrangling with Pandas, \n",
    "# NumPy, and IPython\" by Wes McKinney \n",
    "%time for _ in range(10): my_arr2 = my_arr * 2 \n",
    "%time for _ in range(10): my_list2 = [x * 2 for x in my_list] "
   ]
  },
  {
   "cell_type": "code",
   "execution_count": null,
   "metadata": {},
   "outputs": [],
   "source": [
    "import numpy as np\n",
    "alist = [1, 2, 3]\n",
    "a = np.array(alist)       # Create a rank 1 array from a list\n",
    "print(type(a))            # Prints \"<class 'numpy.ndarray'>\"\n",
    "print(a.shape, a.ndim)            # Prints \"(3,) 1\"\n",
    "print(a[0], a[1], a[2])   # Prints \"1 2 3\"\n",
    "a[0] = 5                  # Change an element of the array\n",
    "print('array:',a, ' list:',a.tolist())                  # Prints \"[5, 2, 3]\"\n",
    "\n",
    "arr1 = np.array([1, 2, 3], dtype=np.float64)\n",
    "\n",
    "b = np.array([[1,2,3],[4,5,6]])    # Create a rank 2 array\n",
    "print(b.shape, b.ndim)                     # Prints \"(2, 3)\"\n",
    "print(b[0, 0], b[0, 1], b[1, 0])   # Prints \"1 2 4\"\n",
    "\n",
    "a = np.arange(9)\n",
    "print('a=',a, a.shape)\n",
    "\n",
    "a = np.zeros((2,2))   # Create an array of all zeros\n",
    "b = np.ones((1,2))    # Create an array of all ones\n",
    "print(a, b)              # Prints \"[[ 1.  1.]]\"\n",
    "c = np.full((2,2), 7)  # Create a constant array\n",
    "d = np.eye(2)         # Create a 2x2 identity matrix\n",
    "print(c, d)           # Prints \"[[ 1.  0.]\n",
    "                      #          [ 0.  1.]]\"\n",
    "a = np.array(range(10), float) \n",
    "print(a)\n",
    "a1 = a.reshape((5, 2))  #reshape a array to a different matrix, it creates a new array\n",
    "a2 = a.reshape((2, 5))  # and does not modify the original array.    \n",
    "print('a1=',a1, 'a2=',a2)\n",
    "a1[0,0]=12.  #a & a1 are just references/pointers, when we change a1[0,0], a[0,0] also changed\n",
    "print('a=',a,'a1=',a1)"
   ]
  },
  {
   "cell_type": "markdown",
   "metadata": {},
   "source": [
    "### Array indexing\n",
    "Numpy offers several ways to index into arrays.\n",
    "\n",
    "#### Slicing: \n",
    "Similar to Python lists, numpy arrays can be sliced. Since arrays may be multidimensional, you must specify a slice for each dimension of the array:"
   ]
  },
  {
   "cell_type": "code",
   "execution_count": null,
   "metadata": {},
   "outputs": [],
   "source": [
    "import numpy as np\n",
    "# Create the following rank 2 array with shape (3, 4)\n",
    "# [[ 1  2  3  4]\n",
    "#  [ 5  6  7  8]\n",
    "#  [ 9 10 11 12]]\n",
    "a = np.array([[1,2,3,4], [5,6,7,8], [9,10,11,12]])\n",
    "print(a)\n",
    "b = a[:2, 1:3]   # rows from 0 to 1; columns from 1 to 2\n",
    "print(b)\n",
    "print(a[0, 1])   # Prints \"2\"\n",
    "b[0, 0] = 13     # b[0, 0]  same data as a[0, 1], implemented by pointer\n",
    "print(a[0, 1])   # Prints \"13\"\n",
    "print(np.reshape(a,(4,3)))  #reshape not changing a\n",
    "a = np.reshape(a,(4,3))    #reshape changing a\n",
    "\"\"\"You can also mix integer indexing with slice indexing. However, \n",
    "doing so will yield an array of lower rank than the original array. \n",
    "Note that this is quite different from the way that MATLAB \n",
    "handles array slicing:\"\"\"\n",
    "# Two ways of accessing the data in the middle row of the array.\n",
    "# Mixing integer indexing with slices yields an array of lower rank,\n",
    "# while using only slices yields an array of the same rank as the\n",
    "# original array:\n",
    "row_r1 = a[0, :]    # Rank 1 view of the first row of a\n",
    "row_r2 = a[0:1, :]  # Rank 2 view of the first row of a\n",
    "print(row_r1, row_r1.shape)  # Prints \"[5 6 7 8] (4,)\"\n",
    "print(row_r2, row_r2.shape)  # Prints \"[[5 6 7 8]] (1, 4)\"\n",
    "\n",
    "# We can make the same distinction when accessing columns of an array:\n",
    "col_r1 = a[:, 1]\n",
    "col_r2 = a[:, 1:2]\n",
    "print(col_r1, col_r1.shape)  # Prints \"[ 2  6 10] (3,)\"\n",
    "print(col_r2, col_r2.shape)  # Prints \"[[ 2]\n",
    "                             #          [ 6]\n",
    "                             #          [10]] (3, 1)\""
   ]
  },
  {
   "cell_type": "markdown",
   "metadata": {},
   "source": [
    "#### Integer array indexing: \n",
    "When you index into numpy arrays using slicing, the resulting array view will always be a subarray of the original array. In contrast, integer array indexing allows you to construct arbitrary arrays using the data from another array. Here is an example:"
   ]
  },
  {
   "cell_type": "code",
   "execution_count": null,
   "metadata": {},
   "outputs": [],
   "source": [
    "import numpy as np\n",
    "a = np.array([[1,2], [3, 4], [5, 6]])\n",
    "\n",
    "# An example of integer array indexing.\n",
    "# The returned array will have shape (3,) and\n",
    "print(a[[0, 1, 2], [0, 1, 0]])  # Prints \"[1 4 5]\"\n",
    "\n",
    "# The above example of integer array indexing is equivalent to this:\n",
    "print(np.array([a[0, 0], a[1, 1], a[2, 0]]))  # Prints \"[1 4 5]\"\n",
    "\n",
    "# When using integer array indexing, you can reuse the same\n",
    "# element from the source array:\n",
    "print(a[[0, 0], [1, 1]])  # Prints \"[2 2]\"\n",
    "\n",
    "# Equivalent to the previous integer array indexing example\n",
    "print(np.array([a[0, 1], a[0, 1]]))  # Prints \"[2 2]\""
   ]
  },
  {
   "cell_type": "markdown",
   "metadata": {},
   "source": [
    "One useful trick with integer array indexing is selecting or mutating one element from each row of a matrix:"
   ]
  },
  {
   "cell_type": "code",
   "execution_count": null,
   "metadata": {},
   "outputs": [],
   "source": [
    "import numpy as np\n",
    "\n",
    "# Create a new array from which we will select elements\n",
    "a = np.array([[1,2,3], [4,5,6], [7,8,9], [10, 11, 12]])\n",
    "\n",
    "print(a)  # prints \"array([[ 1,  2,  3],\n",
    "          #                [ 4,  5,  6],\n",
    "          #                [ 7,  8,  9],\n",
    "          #                [10, 11, 12]])\"\n",
    "\n",
    "# Create an array of indices\n",
    "b = np.array([0, 2, 0, 1])\n",
    "\n",
    "# Select one element from each row of a using the indices in b\n",
    "print(a[np.arange(4), b])  # Prints \"[ 1  6  7 11]\"\n",
    "\n",
    "# Mutate one element from each row of a using the indices in b\n",
    "a[np.arange(4), b] += 10\n",
    "\n",
    "print(a)  # prints \"array([[11,  2,  3],\n",
    "          #                [ 4,  5, 16],\n",
    "          #                [17,  8,  9],\n",
    "          #                [10, 21, 12]])"
   ]
  },
  {
   "cell_type": "markdown",
   "metadata": {},
   "source": [
    "#### Boolean array indexing: \n",
    "Boolean array indexing lets you pick out arbitrary elements of an array. Frequently this type of indexing is used to select the elements of an array that satisfy some condition. \n",
    "More details about numpy array indexing can be found in the documentation: https://docs.scipy.org/doc/numpy/reference/arrays.indexing.html \n",
    "\n",
    "Here is an example:"
   ]
  },
  {
   "cell_type": "code",
   "execution_count": null,
   "metadata": {},
   "outputs": [],
   "source": [
    "import numpy as np\n",
    "\n",
    "a = np.array([[1,2], [3, 4], [5, 6]])\n",
    "\n",
    "bool_idx = (a > 2)   # Find the elements of a that are bigger than 2;\n",
    "                     # this returns a numpy array of Booleans of the same\n",
    "                     # shape as a, where each slot of bool_idx tells\n",
    "                     # whether that element of a is > 2.\n",
    "\n",
    "print(bool_idx)      # Prints \"[[False False]\n",
    "                     #          [ True  True]\n",
    "                     #          [ True  True]]\"\n",
    "\n",
    "# We use boolean array indexing to construct a rank 1 array\n",
    "# consisting of the elements of a corresponding to the True values\n",
    "# of bool_idx\n",
    "print(a[bool_idx])  # Prints \"[3 4 5 6]\"\n",
    "\n",
    "# We can do all of the above in a single concise statement:\n",
    "print(a[a > 2])     # Prints \"[3 4 5 6]\""
   ]
  },
  {
   "cell_type": "markdown",
   "metadata": {},
   "source": [
    "###  Conditional Logic as Array Operations "
   ]
  },
  {
   "cell_type": "code",
   "execution_count": null,
   "metadata": {},
   "outputs": [],
   "source": [
    "import numpy as np\n",
    "xarr = np.array([1.1, 1.2, 1.3, 1.4, 1.5])\n",
    "yarr = np.array([2.1, 2.2, 2.3, 2.4, 2.5])\n",
    "cond = np.array([True, False, True, True, False]) \n",
    "result = [(x if c else y) for x, y, c in zip(xarr, yarr, cond)]\n",
    "print(result, type(result))\n",
    "result1 = np.where(cond, xarr, yarr)\n",
    "print(result1, type(result1)) \n",
    "\n",
    "arr = np.random.randn(4, 4)\n",
    "print(arr,'\\n', arr>0)\n",
    "ar1=np.where(arr<0, 0, arr) # set negative values to 0 \n",
    "print(ar1)"
   ]
  },
  {
   "cell_type": "markdown",
   "metadata": {},
   "source": [
    "### Datatypes\n",
    "Every numpy array is a grid of elements of the same type. Numpy provides a large set of numeric datatypes that you can use to construct arrays. Numpy tries to guess a datatype when you create an array, but functions that construct arrays usually also include an optional argument to explicitly specify the datatype.\n",
    "https://docs.scipy.org/doc/numpy/reference/arrays.dtypes.html\n",
    "\n",
    "Here is an example:"
   ]
  },
  {
   "cell_type": "code",
   "execution_count": null,
   "metadata": {},
   "outputs": [],
   "source": [
    "import numpy as np\n",
    "\n",
    "x = np.array([1, 2])   # Let numpy choose the datatype\n",
    "print(x.dtype)         # Prints \"int64\"\n",
    "\n",
    "x = np.array([1.0, 2.0])   # Let numpy choose the datatype\n",
    "print(x.dtype)             # Prints \"float64\"\n",
    "\n",
    "x = np.array([1, 2], dtype=np.int64)   # Force a particular datatype\n",
    "print(x.dtype)                         # Prints \"int64\""
   ]
  },
  {
   "cell_type": "markdown",
   "metadata": {},
   "source": [
    "### Array math\n",
    "Basic mathematical functions operate elementwise on arrays, and are available both as operator overloads and as functions in the numpy module:"
   ]
  },
  {
   "cell_type": "code",
   "execution_count": null,
   "metadata": {},
   "outputs": [],
   "source": [
    "import numpy as np\n",
    "\n",
    "x = np.array([[1,2],[3,4]], dtype=np.float64)\n",
    "y = np.array([[5,6],[7,8]], dtype=np.float64)\n",
    "\n",
    "# Elementwise sum; both produce the array\n",
    "# [[ 6.0  8.0]\n",
    "#  [10.0 12.0]]\n",
    "print('x+y', x + y)\n",
    "print(np.add(x, y))\n",
    "\n",
    "# Elementwise difference; both produce the array\n",
    "# [[-4.0 -4.0]\n",
    "#  [-4.0 -4.0]]\n",
    "print('x-y', x - y)\n",
    "print(np.subtract(x, y))\n",
    "\n",
    "# Elementwise product; both produce the array\n",
    "# [[ 5.0 12.0]\n",
    "#  [21.0 32.0]]\n",
    "print('x*y', x * y)\n",
    "print(np.multiply(x, y))\n",
    "\n",
    "# Elementwise division; both produce the array\n",
    "# [[ 0.2         0.33333333]\n",
    "#  [ 0.42857143  0.5       ]]\n",
    "print('x/y', x / y)\n",
    "print(np.divide(x, y))\n",
    "\n",
    "# Elementwise square root; produces the array\n",
    "# [[ 1.          1.41421356]\n",
    "#  [ 1.73205081  2.        ]]\n",
    "print('sqrt', np.sqrt(x))\n"
   ]
  },
  {
   "cell_type": "markdown",
   "metadata": {},
   "source": [
    "Unlike MATLAB, '*' is elementwise multiplication in NumPy, not matrix multiplication. The dot function is used to compute inner products of vectors, to multiply a vector by a matrix, and to multiply matrices. $'dot'$ is available both as a function in the numpy module and as an instance method of array objects:"
   ]
  },
  {
   "cell_type": "code",
   "execution_count": null,
   "metadata": {},
   "outputs": [],
   "source": [
    "import numpy as np\n",
    "\n",
    "x = np.array([[1,2],[3,4]])\n",
    "y = np.array([[5,6],[7,8]])\n",
    "\n",
    "v = np.array([9,10])\n",
    "w = np.array([11, 12])\n",
    "\n",
    "# Inner product of vectors; both produce 219\n",
    "print('v.dot(w)', v.dot(w))\n",
    "print('dot(v,w)', np.dot(v, w))\n",
    "\n",
    "# Matrix / vector product; both produce the rank 1 array [29 67]\n",
    "print('x.dot(v)', x.dot(v))\n",
    "print(np.dot(x, v))\n",
    "\n",
    "# Matrix / matrix product; both produce the rank 2 array\n",
    "# [[19 22]\n",
    "#  [43 50]]\n",
    "print('x.dot(y)', x.dot(y))\n",
    "print(np.dot(x, y))\n",
    "print('y.dot(x)', y.dot(x))  #different from x.dot(y)\n",
    "print(np.dot(y, x))"
   ]
  },
  {
   "cell_type": "code",
   "execution_count": null,
   "metadata": {},
   "outputs": [],
   "source": [
    "import numpy as np\n",
    "x = np.array([[1,2],[3,4]])\n",
    "print(np.sum(x))  # Compute sum of all elements; prints \"10\"\n",
    "print(np.sum(x, axis=0))  # Compute sum of each column; prints \"[4 6]\"\n",
    "print(np.sum(x, axis=1))  # Compute sum of each row; prints \"[3 7]\"\n",
    "\n",
    "# https://docs.scipy.org/doc/numpy/reference/routines.math.html"
   ]
  },
  {
   "cell_type": "code",
   "execution_count": null,
   "metadata": {},
   "outputs": [],
   "source": [
    "import numpy as np  # to transpose a matrix\n",
    "x = np.array([[1,2], [3,4]])\n",
    "print(x)    # Prints \"[[1 2]\n",
    "            #          [3 4]]\"\n",
    "print(x.T)  # Prints \"[[1 3]\n",
    "            #          [2 4]]\"\n",
    "\n",
    "# Note that taking the transpose of a rank 1 array does nothing:\n",
    "v = np.array([1,2,3])\n",
    "print(v)    # Prints \"[1 2 3]\"\n",
    "print(v.T)  # Prints \"[1 2 3]\""
   ]
  },
  {
   "cell_type": "markdown",
   "metadata": {},
   "source": [
    "### Broadcasting\n",
    "NumPy specializes in numerical processing through multi-dimensional ndarrays,\n",
    "where the arrays allow element-by-element operations, a.k.a. broadcasting.\n",
    "\n",
    "Broadcasting is a powerful mechanism that allows numpy to work with arrays of different shapes when performing arithmetic operations. Frequently we have a smaller array and a larger array, and we want to use the smaller array multiple times to perform some operation on the larger array.\n",
    "\n",
    "For example, suppose that we want to add a constant vector to each row of a matrix. We could do it like this:"
   ]
  },
  {
   "cell_type": "code",
   "execution_count": null,
   "metadata": {},
   "outputs": [],
   "source": [
    "import numpy as np\n",
    "# We will add the vector v to each row of the matrix x,\n",
    "# storing the result in the matrix y\n",
    "x = np.array([[1,2,3], [4,5,6], [7,8,9], [10, 11, 12]])\n",
    "v = np.array([1, 0, 1])\n",
    "y = np.empty_like(x)   # Create an empty matrix with the same shape as x\n",
    "\n",
    "# Add the vector v to each row of the matrix x with an explicit loop\n",
    "for i in range(4):\n",
    "    y[i, :] = x[i, :] + v\n",
    "\n",
    "# Now y is the following\n",
    "# [[ 2  2  4]\n",
    "#  [ 5  5  7]\n",
    "#  [ 8  8 10]\n",
    "#  [11 11 13]]\n",
    "print(y)"
   ]
  },
  {
   "cell_type": "markdown",
   "metadata": {},
   "source": [
    "However when the matrix x is very large, computing an explicit loop in Python could be slow. Note that adding the vector v to each row of the matrix x is equivalent to forming a matrix vv by stacking multiple copies of v vertically, then performing elementwise summation of x and vv. We could implement this approach like this:"
   ]
  },
  {
   "cell_type": "code",
   "execution_count": null,
   "metadata": {},
   "outputs": [],
   "source": [
    "import numpy as np\n",
    "# We will add the vector v to each row of the matrix x,\n",
    "# storing the result in the matrix y\n",
    "x = np.array([[1,2,3], [4,5,6], [7,8,9], [10, 11, 12]])\n",
    "v = np.array([1, 0, 1])\n",
    "vv = np.tile(v, (4, 1))   # Stack 4 copies of v on top of each other\n",
    "print(vv, vv.shape)       # Prints \"[[1 0 1]\n",
    "                          #          [1 0 1]\n",
    "                          #          [1 0 1]\n",
    "                          #          [1 0 1]]\"\n",
    "y = x + vv  # Add x and vv elementwise\n",
    "print(y)  # Prints \"[[ 2  2  4\n",
    "          #          [ 5  5  7]\n",
    "          #          [ 8  8 10]\n",
    "          #          [11 11 13]]\""
   ]
  },
  {
   "cell_type": "markdown",
   "metadata": {},
   "source": [
    "Numpy broadcasting allows us to perform this computation without actually creating multiple copies of v. Consider this version, using broadcasting:"
   ]
  },
  {
   "cell_type": "code",
   "execution_count": null,
   "metadata": {
    "scrolled": true
   },
   "outputs": [],
   "source": [
    "import numpy as np\n",
    "# We will add the vector v to each row of the matrix x,\n",
    "# storing the result in the matrix y\n",
    "x = np.array([[1,2,3], [4,5,6], [7,8,9], [10, 11, 12]])\n",
    "v = np.array([1, 0, 1])\n",
    "y = x + v  # Add v to each row of x using broadcasting\n",
    "print(y)  # Prints \"[[ 2  2  4]\n",
    "          #          [ 5  5  7]\n",
    "          #          [ 8  8 10]\n",
    "          #          [11 11 13]]\"\n",
    "print(x.shape, v.shape, np.array([[1, 0, 1]]).shape) "
   ]
  },
  {
   "cell_type": "markdown",
   "metadata": {},
   "source": [
    "The line y = x + v works even though x has shape (4, 3) and v has shape (3,) due to broadcasting; this line works as if v actually had shape (4, 3), where each row was a copy of v, and the sum was performed elementwise.\n",
    "\n",
    "Broadcasting two arrays together follows these rules:\n",
    "\n",
    "If the arrays do not have the same rank, prepend the shape of the lower rank array with 1s until both shapes have the same length.\n",
    "The two arrays are said to be compatible in a dimension if they have the same size in the dimension, or if one of the arrays has size 1 in that dimension.\n",
    "The arrays can be broadcast together if they are compatible in all dimensions.\n",
    "After broadcasting, each array behaves as if it had shape equal to the elementwise maximum of shapes of the two input arrays.\n",
    "In any dimension where one array had size 1 and the other array had size greater than 1, the first array behaves as if it were copied along that dimension\n",
    "If this explanation does not make sense, try reading the explanation from the documentation or this explanation.\n",
    "\n",
    "Functions that support broadcasting are known as universal functions. You can find the list of all universal functions in the documentation.\n",
    "\n",
    "Here are some applications of broadcasting:"
   ]
  },
  {
   "cell_type": "code",
   "execution_count": null,
   "metadata": {},
   "outputs": [],
   "source": [
    "import numpy as np\n",
    "# Compute outer product of vectors\n",
    "v = np.array([1,2,3])  # v has shape (3,)\n",
    "w = np.array([4,5])    # w has shape (2,)\n",
    "# To compute an outer product, we first reshape v to be a column\n",
    "# vector of shape (3, 1); we can then broadcast it against w to yield\n",
    "# an output of shape (3, 2), which is the outer product of v and w:\n",
    "# [[ 4  5]\n",
    "#  [ 8 10]\n",
    "#  [12 15]]\n",
    "print('1:', np.reshape(v, (3, 1)) * w)\n",
    "\n",
    "# Add a vector to each row of a matrix\n",
    "x = np.array([[1,2,3], [4,5,6]])\n",
    "# x has shape (2, 3) and v has shape (3,) so they broadcast to (2, 3),\n",
    "# giving the following matrix:\n",
    "# [[2 4 6]\n",
    "#  [5 7 9]]\n",
    "print('2:', x + v)"
   ]
  },
  {
   "cell_type": "code",
   "execution_count": null,
   "metadata": {},
   "outputs": [],
   "source": [
    "# Add a vector to each column of a matrix\n",
    "# x has shape (2, 3) [[1,2,3], [4,5,6]]；and w shape (2,). 【4，5】\n",
    "# If we transpose x then it has shape (3, 2) and can be broadcast\n",
    "# against w to yield a result of shape (3, 2); transposing this result\n",
    "# yields the final result of shape (2, 3) which is the matrix x with\n",
    "# the vector w added to each column. Gives the following matrix:\n",
    "# [[ 5  6  7]\n",
    "#  [ 9 10 11]]\n",
    "print('3:', (x.T + w).T)\n",
    "# Another solution is to reshape w to be a column vector of shape (2, 1);\n",
    "# we can then broadcast it directly against x to produce the same\n",
    "# output.\n",
    "print('4:', x + np.reshape(w, (2, 1)))\n",
    "# Multiply a matrix by a constant:\n",
    "# x has shape (2, 3). Numpy treats scalars as arrays of shape ();\n",
    "# these can be broadcast together to shape (2, 3), producing the\n",
    "# following array:\n",
    "# [[ 2  4  6]\n",
    "#  [ 8 10 12]]\n",
    "print('5:', x * 2)"
   ]
  },
  {
   "cell_type": "code",
   "execution_count": null,
   "metadata": {},
   "outputs": [],
   "source": [
    "x1 = np.array([[1,2,3], [4,5,6],[7,8,9]])\n",
    "w1 = np.array([1,0,1])\n",
    "print(x1+w1,'\\n6:',x1+np.reshape(w1,(3,1)),'\\n7:',x1+np.reshape(w1,(3,)))\n",
    "print('8:',x1*np.reshape(w1,(3,1)),'\\n9:',x1*np.reshape(w1,(3,)))"
   ]
  },
  {
   "cell_type": "markdown",
   "metadata": {},
   "source": [
    "Broadcasting typically makes your code more concise and faster, so you should strive to use it where possible.\n",
    "\n",
    "### Numpy Documentation\n",
    "This brief overview has touched on many of the important things that you \n",
    "need to know about numpy, but is far from complete. Check out the numpy \n",
    "reference to find out much more about numpy.\n",
    "\n",
    "https://docs.scipy.org/doc/numpy/reference/\n",
    "\n",
    "For example:\n",
    "https://docs.scipy.org/doc/numpy/reference/generated/numpy.random.randn.html\n"
   ]
  },
  {
   "cell_type": "code",
   "execution_count": null,
   "metadata": {},
   "outputs": [],
   "source": [
    "import numpy as np \n",
    "print(np.random.randn())\n",
    "arr = np.random.randn(4, 4)\n",
    "ar1=np.where(arr<0, 0, arr) # set negative values to 0 \n",
    "print(ar1)\n",
    "print(np.eye(4, k=1, dtype=float))\n",
    "print(np.eye(4, k=0, dtype=float))\n",
    "np.identity(4, dtype=float) "
   ]
  },
  {
   "cell_type": "code",
   "execution_count": null,
   "metadata": {},
   "outputs": [],
   "source": []
  },
  {
   "cell_type": "markdown",
   "metadata": {},
   "source": [
    "## Array iteration \n",
    "It is possible to iterate over arrays in a manner similar to that of lists: "
   ]
  },
  {
   "cell_type": "code",
   "execution_count": null,
   "metadata": {},
   "outputs": [],
   "source": [
    "import numpy as np \n",
    "a = np.array([1, 4, 5])\n",
    "for x in a:\n",
    "    print(x)\n",
    "a = np.array([[1, 2], [3, 4], [5, 6]])\n",
    "for x in a:\n",
    "    print(x)\n",
    "for x,y in a:\n",
    "    print(x*y)"
   ]
  },
  {
   "cell_type": "markdown",
   "metadata": {},
   "source": [
    "## Basic array operations \n",
    "Many functions exist for extracting whole-array properties.  The items in an array can be summed or multiplied: "
   ]
  },
  {
   "cell_type": "code",
   "execution_count": null,
   "metadata": {},
   "outputs": [],
   "source": [
    "import numpy as np \n",
    "a = np.array([2, 4, 3.8, 5, 1.1]) \n",
    "print(a.sum(), np.sum(a))\n",
    "print(a.prod(), np.prod(a))\n",
    "print(sorted(a))\n",
    "print('2:',a.mean(), a.var(), a.std(), a.min(), a.max(), \\\n",
    "     '\\n3:', a.argmin(), a.argmax(), np.median(a))\n",
    "\n",
    "arr = np.random.randn(2, 4)\n",
    "print(arr)\n",
    "print(np.mean(arr))  \n",
    "print(np.mean(arr,axis=0)) \n",
    "print(np.mean(arr,axis=1)) \n",
    "print(np.std(arr))  \n",
    "print(np.std(arr,axis=0)) \n",
    "print(np.std(arr,axis=1)) \n",
    "print(np.var(arr))  \n",
    "print('var:',np.var(arr,axis=0),'\\nvar:',np.var(arr,axis=1)) \n",
    "\n",
    "\n",
    "a = np.array([1, 3, 0, 2.3], float)\n",
    "b = np.array([0, 3, 2, -1.4], float)\n",
    "print(a > b, a==b, a<b, a<=b, a>2) \n",
    "print(np.logical_and(a > 0, a < 3))\n",
    "print(np.logical_or(a > 0, a < 3))\n",
    "print(np.logical_not(a > 0))\n",
    "print('where:',np.where(a>1), np.where(b<0))"
   ]
  },
  {
   "cell_type": "code",
   "execution_count": null,
   "metadata": {
    "scrolled": true
   },
   "outputs": [],
   "source": [
    "import numpy as np \n",
    "s1=np.array(['boy','ape','dog','cat','big','den'])\n",
    "print(sorted(s1),s1.shape)\n",
    "print(sorted(s1, reverse=True))\n",
    "# Order parameter in sort function \n",
    "dt = np.dtype([('name', 'S4'),('age', int)]) \n",
    "a = np.array([(\"ravi\",21),(\"anne\",25),(\"mo\", 17), (\"eve\",27)], dtype = dt) \n",
    "print('Order by name:',np.sort(a, order = 'name'))\n",
    "print('Order by age:',np.sort(a, order = 'age'))\n",
    "dt = np.dtype([('name', 'S4'),('grade', 'S1')])\n",
    "s2=np.array([('bety','a'),('alan','c'),('dana','d'),\\\n",
    "             ('cali','e'),('eve','b')],dtype = dt) \n",
    "print(s2)\n",
    "#https://docs.scipy.org/doc/numpy/reference/generated/numpy.ndarray.sort.html?highlight=sort#numpy.ndarray.sort\n",
    "#https://www.tutorialspoint.com/numpy/numpy_sort_search_counting_functions.htm\n",
    "print('Order by name:',np.sort(s2, order = 'name'))\n",
    "print('Order by grade:',np.sort(s2, order = 'grade'))\n",
    "a1=np.random.randint(33, size=12)\n",
    "print(a1)\n",
    "a2=np.reshape(a1,(4,3) )\n",
    "print(a2)\n",
    "a2.sort()  #axis=-1; Default is -1, which means sort along the last axis.\n",
    "# sort each row independently\n",
    "print(a2)\n",
    "a2.sort(axis=0) \n",
    "print(a2)"
   ]
  },
  {
   "cell_type": "markdown",
   "metadata": {},
   "source": [
    "#### Assignment\n",
    "1.1 When using 'print(dict)', the result of the printing is not in order. \n",
    "Try write a code to print 'dict' in ascending or descending order of the key, using  d0 = {'cat': 'animal', 'apple': 'fruit', 'snake': 'reptile', 'rose': 'flower'} as an example. \n",
    "\n",
    "1.7 Write a Python code to create a Numpy array of the shape (7,4) [7 rows & 4 columns] so that each column is a sample of random numbers with normal distributions N(0,1), N(1,3), N(-1,4), N(-2,6), where N(a,b) is a normal distribution with mean=a and variance=b. \n",
    "\n",
    "1.8 Create a Numpy array of random numbers by: arr = np.random.randn(4, 5). Write a few lines of python code to sort the columns of the array in ascending order according to the the first row, so that all 5 columns remain unchanged except their relative positions.\n",
    "Run your program to confirm it produces the desired result.\n",
    "\n",
    "1.9 Repeat the last problem so that instead of sorting the columns we sort the rows this time. The result is a matrix with all 4 rows unchanged except their relative positions with respect to each other.\n",
    "Run your program to confirm it produces the desired result."
   ]
  },
  {
   "cell_type": "markdown",
   "metadata": {},
   "source": [
    "\n",
    "# SciPy\n",
    "SciPy is built on the NumPy array framework and takes scientific programming to\n",
    "a whole new level by supplying advanced mathematical functions like integration,\n",
    "ordinary differential equation solvers, special functions, optimizations, and more.\n",
    "\n",
    "Numpy provides a high-performance multidimensional array and basic tools to compute with and manipulate these arrays. SciPy builds on this, and provides a large number of functions that operate on numpy arrays and are useful for different types of scientific and engineering applications. You can look them up here:\n",
    "https://docs.scipy.org/doc/scipy/reference/index.html. \n",
    "\n",
    "We will highlight some parts of SciPy that you might find useful for this class.\n",
    "\n",
    "\n",
    "### Image operations\n",
    "SciPy provides some basic functions to work with images. For example, it has functions to read images from disk into numpy arrays, to write numpy arrays to disk as images, and to resize images. Here is a simple example that showcases these functions:"
   ]
  },
  {
   "cell_type": "code",
   "execution_count": null,
   "metadata": {
    "scrolled": true
   },
   "outputs": [],
   "source": [
    "from scipy.misc import imread, imsave, imresize\n",
    "# Read an JPEG image into a numpy array\n",
    "img = imread('neuralnethuman.jpg')\n",
    "print(img.dtype, img.shape)  # Prints \"uint8 (152L, 330L, 3L)\"\n",
    "\n",
    "# We can tint the image by scaling each of the color channels\n",
    "# by a different scalar constant. The image has shape (152L, 330L, 3L);\n",
    "# we multiply it by the array [1, 0.9, 0.7] of shape (3,);\n",
    "# numpy broadcasting means that this leaves the red channel unchanged,\n",
    "# and multiplies the green and blue channels by 0.95 and 0.9\n",
    "# respectively.\n",
    "img_tinted = img * [1, 0.95, 0.2]\n",
    "\n",
    "# Resize the tinted image to be 300 by 300 pixels.\n",
    "img_tinted = imresize(img_tinted, (200, 300))\n",
    "\n",
    "# Write the tinted image back to disk\n",
    "imsave('nnh_tinted.jpg', img_tinted)\n",
    "print(img_tinted.dtype, img_tinted.shape)"
   ]
  },
  {
   "cell_type": "markdown",
   "metadata": {
    "collapsed": true
   },
   "source": [
    "# Matplotlib\n",
    "Matplotlib is a Python 2D plotting library which produces publication quality figures. For simple plotting the $matplotlib.pyplot$ module provides a MATLAB-like interface. For the power user, you have full control of line styles, font properties, axes properties, etc, via an object oriented interface or via a set of functions familiar to MATLAB users.\n",
    "\n",
    "https://matplotlib.org/\n",
    "\n",
    "https://matplotlib.org/resources/index.html\n",
    "\n",
    "\n",
    "### Plotting\n",
    "The most important function in matplotlib is plot, which allows you to plot 2D data. Here is a quick and dirty example:"
   ]
  },
  {
   "cell_type": "code",
   "execution_count": null,
   "metadata": {},
   "outputs": [],
   "source": [
    "import numpy as np\n",
    "import matplotlib.pyplot as plt\n",
    "\n",
    "# Compute the x and y coordinates for points on a sine curve\n",
    "x = np.arange(0, 3 * np.pi, 0.1)\n",
    "y = np.sin(x)\n",
    "\n",
    "# Plot the points using matplotlib\n",
    "plt.plot(x, y)\n",
    "plt.show()  # You must call plt.show() to make graphics appear."
   ]
  },
  {
   "cell_type": "code",
   "execution_count": null,
   "metadata": {},
   "outputs": [],
   "source": [
    "# Plot multiple lines at once, and add title, legend, and axis labels:\n",
    "import numpy as np\n",
    "import matplotlib.pyplot as plt\n",
    "\n",
    "# Compute the x and y coordinates for points on sine and cosine curves\n",
    "x = np.arange(0, 3 * np.pi, 0.1)\n",
    "y_sin = np.sin(x)\n",
    "y_cos = np.cos(x)\n",
    "\n",
    "# Plot the points using matplotlib\n",
    "plt.plot(x, y_sin)\n",
    "plt.plot(x, y_cos)\n",
    "plt.xlabel('x axis label')\n",
    "plt.ylabel('y axis label')\n",
    "plt.title('Sine and Cosine')\n",
    "plt.legend(['Sine', 'Cosine'])\n",
    "plt.show()"
   ]
  },
  {
   "cell_type": "code",
   "execution_count": null,
   "metadata": {},
   "outputs": [],
   "source": [
    "# Plot different things in the same figure using the subplot function. \n",
    "import numpy as np\n",
    "import matplotlib.pyplot as plt\n",
    "\n",
    "# Compute the x and y coordinates for points on sine and cosine curves\n",
    "x = np.arange(0, 3 * np.pi, 0.1)\n",
    "y_sin = np.sin(x)\n",
    "y_cos = np.cos(x)\n",
    "\n",
    "# Set up a subplot grid that has height 2 and width 1,\n",
    "# and set the first such subplot as active.\n",
    "plt.subplot(2, 1, 1)\n",
    "\n",
    "# Make the first plot\n",
    "plt.plot(x, y_sin)\n",
    "plt.title('Sine')\n",
    "\n",
    "# Set the second subplot as active, and make the second plot.\n",
    "plt.subplot(2, 1, 2)\n",
    "plt.plot(x, y_cos)\n",
    "plt.title('Cosine')\n",
    "\n",
    "# Show the figure.\n",
    "plt.show()"
   ]
  },
  {
   "cell_type": "code",
   "execution_count": null,
   "metadata": {},
   "outputs": [],
   "source": [
    "# Use the imshow function to show images. Here is an example:\n",
    "import numpy as np\n",
    "from scipy.misc import imread, imresize\n",
    "import matplotlib.pyplot as plt\n",
    "\n",
    "img = imread('neuralnethuman.jpg')\n",
    "img_tinted = img * [1, 0.95, 0.1]\n",
    "\n",
    "# Show the original image\n",
    "plt.subplot(1, 2, 1)\n",
    "plt.imshow(img)\n",
    "\n",
    "# Show the tinted image\n",
    "plt.subplot(1, 2, 2)\n",
    "\n",
    "# A slight gotcha with imshow is that it might give strange results\n",
    "# if presented with data that is not uint8. To work around this, we\n",
    "# explicitly cast the image to uint8 before displaying it.\n",
    "plt.imshow(np.uint8(img_tinted))\n",
    "plt.show()"
   ]
  },
  {
   "cell_type": "markdown",
   "metadata": {
    "collapsed": true
   },
   "source": [
    "#### Assignment: Poincaré plot\n",
    "Given a time series of the form\n",
    "$x_t$, $x_{t+1}$, $x_{t+2}$, $x_{t+3}$, ...\n",
    "\n",
    "a Poincaré plot  first plots ($x_t$, $x_{t+1}$), then plots ($x_{t+1}$, $x_{t+2}$), then ($x_{t+2}$, $x_{t+3}$), and so on. \n",
    "\n",
    "1.10 Use the scatter-plot in matplotlib.pyplot to plot the Poincaré plot of the Fibonacci series less then $2^{200}$, both in linear scale and in log scale. [Assignment 1.2]\n",
    "\n",
    "1.11 Similarly, produce the Poincaré plot of the series of the log of prime numbers less then $2^{20}$. [Assignment 1.3]\n",
    "\n",
    "1.12 Similarly, produce the Poincaré plot of the series of the log of perfect numbers less then $2^{20}$. [Assignment 1.5]"
   ]
  },
  {
   "cell_type": "markdown",
   "metadata": {},
   "source": [
    "### Quiz\n",
    "[A] Write a Python function to return a list of prime numbers less than N, where N is an integer larger than 3, by the following algorithm:\n",
    "\n",
    "a/ initialize a list of primes, ps = [2, 3], by inserting the first 2 prime numbers in it;\n",
    "\n",
    "b/ initiate a loop with its counter, x, running from 4 to an integer just less than N, with step_size=1.\n",
    "For each x in this loop, check the following:\n",
    "if x is divisible by any member of ps, then x is not a prime number and we proceed to the next x;\n",
    "if x is not divisible by all members of ps, then x is a prime and we add x into the list ps.\n",
    "\n",
    "c/ return ps at the end of the function.\n",
    "\n",
    "Test your function with N=2000.\n",
    "\n",
    "Find out the the computer time used by this function call, by calling the time.time() function.\n",
    "\n",
    "Explain why this algorithm works. \n",
    "\n",
    "Try another algorithm of your choice to get the same answer, i.e. to produce the list of prime numbers less than N, using a different algorithm that you are familiar with, for example: the \"Sieve of Eratosthenes\". Compare the answers from these 2 algorithms to make sure they give the same answer. \n",
    "Compare the the computer time used by this function call, with the first one.\n",
    "Explain why one of them is faster than the other.\n",
    "\n",
    "\n",
    "\n",
    "[B] Use the function from the previous problem to generate a sequence of prime numbers less than N=10**5. Use it to calculate the sequence of first difference of successive prime numbers, $\\delta p_i$ = $p_i$ - $p_{i-1}$, where $p_i$ are the $i$th prime number.\n",
    "\n",
    "Write Python program that will produce \n",
    "(a) histrogram, and\n",
    "(b) Poincaré plot \n",
    "\n",
    "for the sequence of $\\delta p_i$.\n",
    "\n",
    "For you information, given a series of the form\n",
    "$x_t$, $x_{t+1}$, $x_{t+2}$, $x_{t+3}$, ...\n",
    "\n",
    "a Poincaré plot is a scatter plot that first plots ($x_t$, $x_{t+1}$), then plots ($x_{t+1}$, $x_{t+2}$), then ($x_{t+2}$, $x_{t+3}$), and so on, to the last pair. \n",
    "\n",
    "\n",
    "\n"
   ]
  },
  {
   "cell_type": "code",
   "execution_count": null,
   "metadata": {
    "scrolled": true
   },
   "outputs": [],
   "source": [
    "def primelessthan(n):  #return list of prime numbers less than n, for n>3\n",
    "    primes=[2,3]\n",
    "    for x in range(4,n):\n",
    "        isprime=True\n",
    "        for i in primes:\n",
    "            if x%i == 0: \n",
    "                isprime=False\n",
    "                break\n",
    "            else: continue\n",
    "        if isprime: \n",
    "            primes.append(x) \n",
    "    return primes\n",
    "import time\n",
    "t1=time.time() \n",
    "N=10**6\n",
    "a1=primelessthan(N) \n",
    "print('number of primes less than %d is %d', N,len(a1))\n",
    "t2=time.time() \n",
    "print('time used:',t2-t1)\n",
    "                \n",
    "import numpy as np\n",
    "import matplotlib.pyplot as plt\n",
    "xa=np.array(a1[0:-1])\n",
    "ya=np.array(a1[1:])\n",
    "pd=ya-xa\n",
    "xa=pd[0:-1]\n",
    "ya=pd[1:]\n",
    "print(len(xa),len(ya))\n",
    "print(xa[0:9],'\\n',ya[0:9])\n",
    "plt.scatter(xa,ya) \n",
    "plt.show()\n",
    "plt.hist(pd, bins='auto') \n",
    "plt.show() "
   ]
  },
  {
   "cell_type": "code",
   "execution_count": null,
   "metadata": {},
   "outputs": [],
   "source": [
    "def primelessthan(n):  #return list of prime numbers less than n, for n>3\n",
    "    primes=[2,3]\n",
    "    for x in range(4,n):\n",
    "        isprime=True\n",
    "        for i in primes:\n",
    "            if i*i>x: break\n",
    "            if x%i == 0: \n",
    "                isprime=False\n",
    "                break\n",
    "            else: continue\n",
    "        if isprime: \n",
    "            primes.append(x) \n",
    "    return primes, len(primes)\n",
    "import time\n",
    "t1=time.time() \n",
    "print(primelessthan(2000))\n",
    "t2=time.time() \n",
    "print('time used:',t2-t1)\n"
   ]
  },
  {
   "cell_type": "markdown",
   "metadata": {},
   "source": [
    "A prime number that is one less than a power of two is known as a Mersenne prime, i.e. a prime number of the form $M_n = 2^n − 1$ for some integer n. They are named after Marin Mersenne, a French Catholic Church friar, who studied them in the early 17th century.\n",
    "Write a python program to find the first 7 Mersenne primes (3, 7, 31, 127, 8191, 131071, 524287).\n",
    "\n",
    "According to the Euclid–Euler theorem in number theory, every even perfect number has the form $2^{n − 1}(2^n − 1)$, where $2^n − 1$ is a Mersenne prime. Create a list of the first 7 perfect numbers and verify that the Euclid–Euler theorem is indeed valid.\n",
    "\n",
    "\n",
    "\n"
   ]
  },
  {
   "cell_type": "code",
   "execution_count": null,
   "metadata": {},
   "outputs": [],
   "source": [
    "import numpy as np   #final exam\n",
    "a0 = np.array([1, 2, 3])\n",
    "print(a0.shape)\n",
    "a1 = np.array([[1], [2], [3]])\n",
    "print(a0.shape)\n",
    "a2 = np.reshape(np.array(range(12)), (3,4))\n",
    "print(a2)\n",
    "a3 = [0, 0.1, 0.2, 0.3]\n",
    "print(a2+a3) #5 marks\n",
    "print(np.sum(a2, axis=1))\n",
    "\n",
    "for x in \"pythongood\":\n",
    "    if x == \"o\": break\n",
    "    print(x)\n",
    "print(\"The end1\")\n",
    "for x in \"pythongood\":\n",
    "    if x == \"o\": continue\n",
    "    print(x)\n",
    "print(\"The end2\")\n",
    "\n",
    "numList = [1, 2, 3, 4, 5]\n",
    "strList = ['one', 'two', 'three']\n",
    "for x, y in zip(numList, strList):\n",
    "    print(x,y)"
   ]
  },
  {
   "cell_type": "code",
   "execution_count": null,
   "metadata": {},
   "outputs": [],
   "source": [
    "import numpy as np\n",
    "class NeuralNetwork:\n",
    "  def __init__(self, numInput, numHidden, numOutput):\n",
    "    self.ni = numInput\n",
    "    self.nh = numHidden\n",
    "    self.no = numOutput\n",
    "    self.iNodes = np.zeros(shape=self.ni, dtype=np.float64)\n",
    "    self.hNodes = np.zeros(shape=self.nh, dtype=np.float64)\n",
    "    self.oNodes = np.zeros(shape=self.no, dtype=np.float64)\n",
    "    self.ihWeights = np.random.randn(self.ni, self.nh)\n",
    "    self.hoWeights = np.random.randn(self.nh, self.no)\n",
    "    self.hBiases = np.random.randn(self.nh)\n",
    "    self.oBiases = np.random.randn(self.no)\n",
    "    print(self.iNodes, '\\n', self.ihWeights)\n",
    "    print(self.oNodes, '\\n', self.hoWeights)\n",
    "ann1= NeuralNetwork(4,3,2)"
   ]
  },
  {
   "cell_type": "code",
   "execution_count": null,
   "metadata": {},
   "outputs": [],
   "source": [
    "['alan', 21, 'a'], ['ramy', 19, 'd'], ['mary',17, 'b'], ['cali', 20,'e'], ['dana',22,'c']"
   ]
  },
  {
   "cell_type": "markdown",
   "metadata": {},
   "source": [
    "[C] Write a Python function, F(N), to find and count all $(x, y)$ pairs such that (i) x, y are positive integers and both x & y are less than N, a given positve integer, and they cannot be equal to 0; (ii) $x^2 + y^2 = c^2$, where c is any positive integer less than or equal to N.\n",
    "For example, (3,4) and (4,3) are considered as one and the same pair counted in the whole set with c=5.\n",
    "\n",
    "Use the function you develop to calculate F(10) & F(100)."
   ]
  },
  {
   "cell_type": "code",
   "execution_count": null,
   "metadata": {},
   "outputs": [],
   "source": [
    "def pyF(N):\n",
    "    n2=[c**2 for c in range(1,N)]\n",
    "    pairs=[]\n",
    "    for x in range(1,N):\n",
    "        for y in range(1,x+1):\n",
    "            if x**2 + y**2 in n2: pairs.append(set([x,y]))\n",
    "    return pairs\n",
    "py=pyF(250)\n",
    "print(len(py),  py, type(py))   \n",
    "py1=set(tuple(r) for r in py)\n",
    "print(py1, len(py1))"
   ]
  },
  {
   "cell_type": "code",
   "execution_count": null,
   "metadata": {},
   "outputs": [],
   "source": [
    "def pyF(N):\n",
    "    n2=[c**3 for c in range(1,N)]\n",
    "    pairs=[]\n",
    "    for x in range(1,N):\n",
    "        for y in range(1,N):\n",
    "            for z in range(1,N):\n",
    "                if x**2 + y**2 + z**2 in n2: pairs.append([x,y,z]) \n",
    "    return pairs\n",
    "py=pyF(40)\n",
    "print(len(py),  py) \n",
    "py1=set(tuple(r) for r in py)\n",
    "print('\\n**',len(py1), py1)"
   ]
  },
  {
   "cell_type": "markdown",
   "metadata": {},
   "source": [
    "[E] Calculate the product of the following two matrices by using the correct Numpy function:\n",
    "A = [[1, 2, 3], [4, 5, 6], [7, 8, 9]]\n",
    "B = [[1, -2], [-3, 4], [5, -6]] "
   ]
  },
  {
   "cell_type": "code",
   "execution_count": null,
   "metadata": {},
   "outputs": [],
   "source": [
    "import numpy as np\n",
    "A = np.array([[1, 2, 3], [4, 5, 6], [7, 8, 9]])\n",
    "B = np.array([[1, -2], [-3, 4], [5, -6]])\n",
    "c = A.dot(B)\n",
    "print(c)"
   ]
  },
  {
   "cell_type": "code",
   "execution_count": null,
   "metadata": {},
   "outputs": [],
   "source": []
  },
  {
   "cell_type": "code",
   "execution_count": null,
   "metadata": {},
   "outputs": [],
   "source": []
  }
 ],
 "metadata": {
  "kernelspec": {
   "display_name": "Python 3",
   "language": "python",
   "name": "python3"
  },
  "language_info": {
   "codemirror_mode": {
    "name": "ipython",
    "version": 3
   },
   "file_extension": ".py",
   "mimetype": "text/x-python",
   "name": "python",
   "nbconvert_exporter": "python",
   "pygments_lexer": "ipython3",
   "version": "3.6.4"
  }
 },
 "nbformat": 4,
 "nbformat_minor": 2
}
