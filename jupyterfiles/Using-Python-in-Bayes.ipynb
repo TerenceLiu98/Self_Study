{
 "cells": [
  {
   "cell_type": "markdown",
   "metadata": {},
   "source": [
    "# Bayesian Statistics \n",
    "\n",
    "## Chapter Zero Review\n",
    "\n",
    "Omission\n",
    "\n",
    "## Chapter One Introduction \n",
    "\n",
    "### Conditional Probability \n",
    "\n",
    "As we have mentioned in `Using Python in Advanced Statistics`, **probability** is a number within in 0 to 1(included 0 and 1),and the meaning of probability is that the credibility(可信度) of a event or a prediction. According to this idea, **COnditional Probability** is the probability under some kinds of conditions. For example, if there is a rain tomorrow in Zhuhai. I check the data, found that in tomorrow's date, there are about 30% that will rain. **This is the probability**. If I want to know the possibility of rain tomorrow if it is already raining today. **This is the conditional probability**, which is a probability of an event happen based on a happened fact. \n",
    "\n",
    "The usual notation for conditional probability is $p(A\\mid B)$, which means under B event's condition, the probability of A.\n",
    "\n",
    "*PS: if the probability of an event is 0, we says it is **false**; in the opposite, if the probability is 1, it is **true**.*\n",
    "\n",
    "### Conjoint Probability \n",
    "\n",
    "After known what is **conditional probability**, we can easily know what is **conjoint probability**, which is another way to say the probability that two things are true. This time, the notation is: $p(A B)$ or $P(A\\ and \\ B)$."
   ]
  },
  {
   "cell_type": "code",
   "execution_count": 1,
   "metadata": {},
   "outputs": [
    {
     "ename": "ModuleNotFoundError",
     "evalue": "No module named 'sympy'",
     "output_type": "error",
     "traceback": [
      "\u001b[0;31m---------------------------------------------------------------------------\u001b[0m",
      "\u001b[0;31mModuleNotFoundError\u001b[0m                       Traceback (most recent call last)",
      "\u001b[0;32m<ipython-input-1-a184df49d15b>\u001b[0m in \u001b[0;36m<module>\u001b[0;34m()\u001b[0m\n\u001b[1;32m      1\u001b[0m \u001b[0;32mimport\u001b[0m \u001b[0mmatplotlib\u001b[0m\u001b[0;34m.\u001b[0m\u001b[0mpyplot\u001b[0m \u001b[0;32mas\u001b[0m \u001b[0mplt\u001b[0m\u001b[0;34m\u001b[0m\u001b[0m\n\u001b[1;32m      2\u001b[0m \u001b[0;32mimport\u001b[0m \u001b[0mnumpy\u001b[0m \u001b[0;32mas\u001b[0m \u001b[0mnp\u001b[0m\u001b[0;34m\u001b[0m\u001b[0m\n\u001b[0;32m----> 3\u001b[0;31m \u001b[0;32mimport\u001b[0m \u001b[0msympy\u001b[0m\u001b[0;34m\u001b[0m\u001b[0m\n\u001b[0m\u001b[1;32m      4\u001b[0m \u001b[0;34m\u001b[0m\u001b[0m\n\u001b[1;32m      5\u001b[0m \u001b[0;34m\u001b[0m\u001b[0m\n",
      "\u001b[0;31mModuleNotFoundError\u001b[0m: No module named 'sympy'"
     ]
    }
   ],
   "source": [
    "import matplotlib.pyplot as plt\n",
    "import numpy as np \n",
    "import sympy\n",
    "\n",
    "\n",
    "from matplotlib_venn import venn3, venn3_circles\n",
    "plt.figure(figsize=(4,4))\n",
    "v = venn2(subsets=(2,2,1), set_labels = ('A', 'B'))\n",
    "\n",
    "\n",
    "\n",
    "plt.title(\"Sample Venn diagram - plot one\")\n",
    "plt.annotate('P(AB)', xy=v.get_label_by_id('11').get_position() - np.array([0, 0.05]), xytext=(-70,-70),\n",
    "             ha='center', textcoords='offset points', bbox=dict(boxstyle='round,pad=0.5', fc='gray', alpha=0.1),\n",
    "             arrowprops=dict(arrowstyle='->', connectionstyle='arc3,rad=0.5',color='gray'))\n",
    "plt.show()"
   ]
  },
  {
   "cell_type": "markdown",
   "metadata": {},
   "source": [
    "The conjointed part can represent the conjoint probability that $A$ and $B$ are both true. For instance, if $A$ and $B$ are independent, we know that the $P(A\\ and \\ B) = P(A)P(B) \\Leftrightarrow P(A \\mid B) = p(A)$, for whether A is true or not will not affect B; but if $A$ and $B$ are not independent, just like the weather, if we know that it raind today, it is more likely that it will rain tomorrow, so $p(A|B) > p(A)$. \n",
    "\n",
    "In general, the probability of a conjunction is : $\\mathbf  p(A\\ and \\ B) = p(A)p(B \\mid A)$"
   ]
  },
  {
   "cell_type": "markdown",
   "metadata": {},
   "source": [
    "### Bayes's theorem \n",
    "\n",
    "Known what is conditional probability and cojoint probability, we can move on to the Headlight: **Bayes's theorem**. First, we should make sure we are in the same channel: \n",
    "   1. conjoint probability: $p(A\\ and \\ B) = p(B\\ and \\ A)$ \n",
    "   2. probability of a conjunction: $p(A\\ and \\ B) = p(A)p(B \\mid A)$\n",
    "   3. interchange $A$ and $B$: $p(B\\ and \\ A) = p(B)p(A \\mid B)$\n",
    "   \n",
    "In the light of point 2 and point 3, we can combine the two equations to one euqation: $\\Rightarrow p(A) \\ p(B \\mid A) = p(B) \\ p(A \\mid B)$, divided by $p(B)$ in the meantime and we can get the **Bayes's theorem !** : $\\Rightarrow \\frac{p(A) \\ p(B \\mid A)}{p(B)} =  p(A \\mid B)$"
   ]
  },
  {
   "cell_type": "markdown",
   "metadata": {},
   "source": [
    "We can have a example, Allen B.Downey called it **The Cookie Problem**: Suppose there are two bowls of cookies. Bowl-1 contains $30$ vanilla cookies and $10$ chocolate cookies. Bowl-2 contains $20$ of each.\n",
    "Now suppose you choose one of the bowls at random and, without looking, select a cookie at random. The cookie is vanilla. What is the probability that it came from Bowl-1?\n",
    "This is a conditional probability; we want $p(Bowl-1|vanilla)$, but it is not obvious how to compute it. If I asked a different question — the probability of a vanilla cookie given Bowl-1 — it would be easy: \n",
    "\n",
    "$$p(vanilla\\mid Bowl-1) = \\frac{3}{4}$$\n",
    "\n",
    "Sadly, $p(A|B)$ is not the same as $p(B|A)$, but there is a way to get from one\n",
    "to the other: Bayes’s theorem.\n",
    "\n",
    "Using **Bayes's Theorem**, we can easily solve the cookie problem: <br> \n",
    "First, assume that $B_1$ represent the probility that cookie from Bowl-1 and $p(V)$ is the probability of taking out a Vanilla. \n",
    "\n",
    "$$P(B_1\\mid V) = \\frac{p(B_1)p(V\\mid B_1)}{p(V)}$$"
   ]
  },
  {
   "cell_type": "code",
   "execution_count": null,
   "metadata": {},
   "outputs": [],
   "source": []
  }
 ],
 "metadata": {
  "kernelspec": {
   "display_name": "Python 3",
   "language": "python",
   "name": "python3"
  },
  "language_info": {
   "codemirror_mode": {
    "name": "ipython",
    "version": 3
   },
   "file_extension": ".py",
   "mimetype": "text/x-python",
   "name": "python",
   "nbconvert_exporter": "python",
   "pygments_lexer": "ipython3",
   "version": "3.7.0"
  }
 },
 "nbformat": 4,
 "nbformat_minor": 2
}
