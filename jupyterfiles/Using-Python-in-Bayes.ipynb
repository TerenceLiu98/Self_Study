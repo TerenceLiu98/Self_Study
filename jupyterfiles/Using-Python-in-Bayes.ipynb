{
 "cells": [
  {
   "cell_type": "markdown",
   "metadata": {},
   "source": [
    "# Bayesian Statistics \n",
    "\n",
    "## Chapter Zero Review\n",
    "\n",
    "Omission\n",
    "\n",
    "## Chapter One Introduction \n",
    "\n",
    "### Conditional Probability \n",
    "\n",
    "As we have mentioned in `Using Python in Advanced Statistics`, **probability** is a number within in 0 to 1(included 0 and 1),and the meaning of probability is that the credibility(可信度) of a event or a prediction. According to this idea, **COnditional Probability** is the probability under some kinds of conditions. For example, if there is a rain tomorrow in Zhuhai. I check the data, found that in tomorrow's date, there are about 30% that will rain. **This is the probability**. If I want to know the possibility of rain tomorrow if it is already raining today. **This is the conditional probability**, which is a probability of an event happen based on a happened fact. \n",
    "\n",
    "The usual notation for conditional probability is $p(A\\mid B)$, which means under B event's condition, the probability of A.\n",
    "\n",
    "*PS: if the probability of an event is 0, we says it is **false**; in the opposite, if the probability is 1, it is **true**.*\n",
    "\n",
    "### Conjoint Probability \n",
    "\n",
    "After known what is **conditional probability**, we can easily know what is **conjoint probability**, which is another way to say the probability that two things are true. This time, the notation is: $p(A B)$ or $P(A\\ and \\ B)$."
   ]
  },
  {
   "cell_type": "code",
   "execution_count": 3,
   "metadata": {},
   "outputs": [
    {
     "ename": "TypeError",
     "evalue": "'dict' object is not callable",
     "output_type": "error",
     "traceback": [
      "\u001b[0;31m---------------------------------------------------------------------------\u001b[0m",
      "\u001b[0;31mTypeError\u001b[0m                                 Traceback (most recent call last)",
      "\u001b[0;32m<ipython-input-3-d71292ea59c3>\u001b[0m in \u001b[0;36m<module>\u001b[0;34m\u001b[0m\n\u001b[1;32m     11\u001b[0m \u001b[0mplt\u001b[0m\u001b[0;34m.\u001b[0m\u001b[0mtitle\u001b[0m\u001b[0;34m(\u001b[0m\u001b[0;34m\"Sample Venn diagram - plot one\"\u001b[0m\u001b[0;34m)\u001b[0m\u001b[0;34m\u001b[0m\u001b[0m\n\u001b[1;32m     12\u001b[0m plt.annotate('P(AB)', xy=v.get_label_by_id('11').get_position() - np.array([0, 0.05]), xytext=(-70,-70),\n\u001b[0;32m---> 13\u001b[0;31m              \u001b[0mha\u001b[0m\u001b[0;34m=\u001b[0m\u001b[0;34m'center'\u001b[0m\u001b[0;34m,\u001b[0m \u001b[0mtextcoords\u001b[0m\u001b[0;34m=\u001b[0m\u001b[0;34m'offset points'\u001b[0m\u001b[0;34m,\u001b[0m \u001b[0mbbox\u001b[0m\u001b[0;34m=\u001b[0m\u001b[0mdict\u001b[0m\u001b[0;34m(\u001b[0m\u001b[0mboxstyle\u001b[0m\u001b[0;34m=\u001b[0m\u001b[0;34m'round,pad=0.5'\u001b[0m\u001b[0;34m,\u001b[0m \u001b[0mfc\u001b[0m\u001b[0;34m=\u001b[0m\u001b[0;34m'gray'\u001b[0m\u001b[0;34m,\u001b[0m \u001b[0malpha\u001b[0m\u001b[0;34m=\u001b[0m\u001b[0;36m0.1\u001b[0m\u001b[0;34m)\u001b[0m\u001b[0;34m,\u001b[0m\u001b[0;34m\u001b[0m\u001b[0m\n\u001b[0m\u001b[1;32m     14\u001b[0m              arrowprops=dict(arrowstyle='->', connectionstyle='arc3,rad=0.5',color='gray'))\n\u001b[1;32m     15\u001b[0m \u001b[0mplt\u001b[0m\u001b[0;34m.\u001b[0m\u001b[0mshow\u001b[0m\u001b[0;34m(\u001b[0m\u001b[0;34m)\u001b[0m\u001b[0;34m\u001b[0m\u001b[0m\n",
      "\u001b[0;31mTypeError\u001b[0m: 'dict' object is not callable"
     ]
    },
    {
     "data": {
      "image/png": "[encoded data removed]",
      "text/plain": [
       "<matplotlib.figure.Figure at 0x7432df70>"
      ]
     },
     "metadata": {},
     "output_type": "display_data"
    }
   ],
   "source": [
    "import matplotlib.pyplot as plt\n",
    "import numpy as np \n",
    "import sympy\n",
    "from matplotlib_venn import venn2, venn3_circles\n",
    "\n",
    "plt.figure(figsize=(4,4))\n",
    "v = venn2(subsets=(2,2,1), set_labels = ('A', 'B'))\n",
    "\n",
    "\n",
    "\n",
    "plt.title(\"Sample Venn diagram - plot one\")\n",
    "plt.annotate('P(AB)', xy=v.get_label_by_id('11').get_position() - np.array([0, 0.05]), xytext=(-70,-70),\n",
    "             ha='center', textcoords='offset points', bbox=dict(boxstyle='round,pad=0.5', fc='gray', alpha=0.1),\n",
    "             arrowprops=dict(arrowstyle='->', connectionstyle='arc3,rad=0.5',color='gray'))\n",
    "plt.show()"
   ]
  },
  {
   "cell_type": "markdown",
   "metadata": {},
   "source": [
    "The conjointed part can represent the conjoint probability that $A$ and $B$ are both true. For instance, if $A$ and $B$ are independent, we know that the $P(A\\ and \\ B) = P(A)P(B) \\Leftrightarrow P(A \\mid B) = p(A)$, for whether A is true or not will not affect B; but if $A$ and $B$ are not independent, just like the weather, if we know that it raind today, it is more likely that it will rain tomorrow, so $p(A|B) > p(A)$. \n",
    "\n",
    "In general, the probability of a conjunction is : $\\mathbf  p(A\\ and \\ B) = p(A)p(B \\mid A)$"
   ]
  },
  {
   "cell_type": "markdown",
   "metadata": {},
   "source": [
    "### Bayes's theorem \n",
    "\n",
    "Known what is conditional probability and cojoint probability, we can move on to the Headlight: **Bayes's theorem**. First, we should make sure we are in the same channel: \n",
    "   1. conjoint probability: $p(A\\ and \\ B) = p(B\\ and \\ A)$ \n",
    "   2. probability of a conjunction: $p(A\\ and \\ B) = p(A)p(B \\mid A)$\n",
    "   3. interchange $A$ and $B$: $p(B\\ and \\ A) = p(B)p(A \\mid B)$\n",
    "   \n",
    "In the light of point 2 and point 3, we can combine the two equations to one euqation: $\\Rightarrow p(A) \\ p(B \\mid A) = p(B) \\ p(A \\mid B)$, divided by $p(B)$ in the meantime and we can get the **Bayes's theorem !** : $\\Rightarrow \\frac{p(A) \\ p(B \\mid A)}{p(B)} =  p(A \\mid B)$"
   ]
  },
  {
   "cell_type": "markdown",
   "metadata": {},
   "source": [
    "We can have a example, Allen B.Downey called it **The Cookie Problem**: Suppose there are two bowls of cookies. Bowl-1 contains $30$ vanilla cookies and $10$ chocolate cookies. Bowl-2 contains $20$ of each.\n",
    "Now suppose you choose one of the bowls at random and, without looking, select a cookie at random. The cookie is vanilla. What is the probability that it came from Bowl-1?\n",
    "This is a conditional probability; we want $p(Bowl-1|vanilla)$, but it is not obvious how to compute it. If I asked a different question — the probability of a vanilla cookie given Bowl-1 — it would be easy: \n",
    "\n",
    "$$p(vanilla\\mid Bowl-1) = \\frac{3}{4}$$\n",
    "\n",
    "Sadly, $p(A|B)$ is not the same as $p(B|A)$, but there is a way to get from one\n",
    "to the other: Bayes’s theorem.\n",
    "\n",
    "Using **Bayes's Theorem**, we can easily solve the cookie problem: <br> \n",
    "First, assume that $B_1$ represent the probility that cookie from Bowl-1 and $p(V)$ is the probability of taking out a Vanilla. \n",
    "\n",
    "$$P(B_1\\mid V) = \\frac{p(B_1)p(V\\mid B_1)}{p(V)}$$"
   ]
  },
  {
   "cell_type": "markdown",
   "metadata": {},
   "source": [
    "There is another way to think of Bayes's theorem: it gives us a way to update the probability of a hypothesis, $H$, in light of some body of data,$D$. \n",
    "\n",
    "This way of thinking about Bayes's theorem is called the **diachronic interpretation**. \"Diachronic\" means that something is happening over time; in this case the probability of the hypotheses changes, over time, as we see new data. \n",
    "\n",
    "Rewriting Bayes's theorem with $H$ and $D$ yields:\n",
    "\n",
    "$$P(H|D) = \\frac{p(H)p(D|H)}{p(D)}$$\n",
    "\n",
    "In this interpretation, each term has a name:\n",
    "\n",
    "* $p(H)$ is the probability of the hypothesis before we see the data, called the prior probability, or just **prior**;\n",
    "* $p(D)$ is the probability of the data under any hypothesis, called the normalizing constant(total probability);\n",
    "* $P(H|D)$ is waht we want to compute, the probability of the hypothesis after we see the data, called the **posterior**;\n",
    "* $P(D|H)$ is the probability of the data under the hypothesis, called the likelihood\n",
    "\n",
    "In the classical Statistics theory, the data is the random variable. The the Cookie Problem for example, if we want to know the probability of taking out vanilla cookies from Bowl-1, the random variable is $1,2,3,\\dots$, the data or the number. However, if we want to know the probability of which Bowls does the vanilla cookie come from, as we got a vanilla cookies already, this time, the random varaible is the probability, not the data. This is the biggest difference between Bayesian and Frequentist. "
   ]
  },
  {
   "cell_type": "markdown",
   "metadata": {},
   "source": [
    "## Chapter Two Computational Statistics \n",
    "\n",
    "In statistics, a **distribution** is a set of values and thier correponding probabilites. \n",
    "\n",
    "You can get more information about Probabilities and Statistics <a href=\"https://terenceliu98.github.io/Jupytersite//Html/Use_PY_in_Advanced_Statstics.html\">here</a>"
   ]
  },
  {
   "cell_type": "markdown",
   "metadata": {},
   "source": [
    "Here is a example of rolling a dice, as we all know that the probability of each side is $\\frac{1}{6}$, then, this is a Discrete Uniform Distribution. "
   ]
  },
  {
   "cell_type": "code",
   "execution_count": 2,
   "metadata": {},
   "outputs": [
    {
     "data": {
      "image/png": "[encoded data removed]",
      "text/plain": [
       "<matplotlib.figure.Figure at 0x7434e2f0>"
      ]
     },
     "metadata": {
      "needs_background": "light"
     },
     "output_type": "display_data"
    }
   ],
   "source": [
    "import numpy as np\n",
    "from scipy import stats\n",
    "import matplotlib.pyplot as plt\n",
    "import matplotlib\n",
    "\n",
    "fig, ax = plt.subplots(1, 1)\n",
    "a = [1,2,3,4,5,6]\n",
    "sample = np.random.randint(len(a), size = 10000)\n",
    "\n",
    "dict = {}\n",
    "for key in sample:\n",
    "    dict[key] = dict.get(key, 0) + 1\n",
    "len(dict)\n",
    "\n",
    "x = [dict[i] for i in dict] # change dict to list \n",
    "pmf = [dict[i]/len(sample) for i in dict] #calculate pmf of each element in list \n",
    "\n",
    "ax.plot(a,pmf,'bo')\n",
    "ax.vlines(a, 0, pmf, colors='b', lw=5, alpha=0.5)\n",
    "\n",
    "line1 = [(0, 0.1666667), (10, 0.1666667)]\n",
    "(line1_xs, line1_ys) = zip(*line1)\n",
    "ax.add_line(matplotlib.lines.Line2D(line1_xs, line1_ys, linewidth=1, color='red') )        \n",
    "plt.show()"
   ]
  },
  {
   "cell_type": "code",
   "execution_count": null,
   "metadata": {},
   "outputs": [],
   "source": []
  }
 ],
 "metadata": {
  "kernelspec": {
   "display_name": "Python 3",
   "language": "python",
   "name": "python3"
  },
  "language_info": {
   "codemirror_mode": {
    "name": "ipython",
    "version": 3
   },
   "file_extension": ".py",
   "mimetype": "text/x-python",
   "name": "python",
   "nbconvert_exporter": "python",
   "pygments_lexer": "ipython3",
   "version": "3.5.3"
  }
 },
 "nbformat": 4,
 "nbformat_minor": 2
}
