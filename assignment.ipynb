{
 "cells": [
  {
   "cell_type": "markdown",
   "metadata": {},
   "source": [
    "#### Assignment 1: Python code exercise\n",
    "1.1 When using 'print(dict)', the result of the printing a dictionary is not in order. \n",
    "Try write a code to print 'dict' in ascending or descending order of the key, using  d0 = {'cat': 'animal', 'apple': 'fruit', 'snake': 'reptile', 'rose': 'flower'} as an example. \n",
    "Hint: use the python function sorted() on keys().\n"
   ]
  },
  {
   "cell_type": "code",
   "execution_count": null,
   "metadata": {},
   "outputs": [],
   "source": [
    "#put your Python code in this cell\n"
   ]
  },
  {
   "cell_type": "markdown",
   "metadata": {},
   "source": [
    "1.2 Write a function to count the number of all Fibonacci numbers less then N.\n"
   ]
  },
  {
   "cell_type": "code",
   "execution_count": null,
   "metadata": {},
   "outputs": [],
   "source": []
  },
  {
   "cell_type": "markdown",
   "metadata": {},
   "source": [
    "1.3 Write a function to count the number of all prime numbers less then N.\n"
   ]
  },
  {
   "cell_type": "code",
   "execution_count": null,
   "metadata": {},
   "outputs": [],
   "source": []
  },
  {
   "cell_type": "markdown",
   "metadata": {},
   "source": [
    "1.4 If N is a positive integer, the total number of positive integers that are $relatively$ $prime$ to N and less than N is denoted by $\\phi(N)$. It is  called the $Euler$ $totient$ $function$ of $N$. For example, we have $\\phi(2)=1$, $\\phi(3)=\\phi(4)=2$, $\\phi(9)=6$ and if $p$ is a prime number then $\\phi(p)=p-1$.\n",
    "Write a python function to calculate $\\phi(N)$. [Note that two integers are said to be $relatively$ $prime$ if their greatest common divisor (gcd) is 1.]\n"
   ]
  },
  {
   "cell_type": "code",
   "execution_count": null,
   "metadata": {},
   "outputs": [],
   "source": []
  },
  {
   "cell_type": "markdown",
   "metadata": {},
   "source": [
    "1.5 A positive integer is called a perfect number if by adding all the positive divisors of the number (except itself), the result is the number itself. The first perfect number is 6 [=1+2+3]. Other perfect numbers include 28 [=1+2+7+4+14], 496 and 8128. Write a python function to calculate all perfect numbers less than or equal to N."
   ]
  },
  {
   "cell_type": "code",
   "execution_count": null,
   "metadata": {},
   "outputs": [],
   "source": []
  },
  {
   "cell_type": "markdown",
   "metadata": {},
   "source": [
    "1.6 In the following text paragraph, write a Python code to count the total number of\n",
    "\n",
    "[1] characters,\n",
    "\n",
    "[2] words, (words are separated by ' ')\n",
    "\n",
    "[3] distinct words, (e.g. if 'the' appears more than once, it is counted as one distinct word)\n",
    "\n",
    "[4] sentences. (sentences are separated by '. ')\n",
    "\n",
    "\"In those first days of the Trump era, Google leaders were desperate to avoid confrontation with the new regime. The company's history of close ties to the Obama administration left executives feeling especially vulnerable to the reactionary movement—incubated partly on Google's own video platform, YouTube—that had memed, rallied, and voted Trump into office. (It didn't help that Eric Schmidt, then executive chairman of Google's parent company, Alphabet, had been an adviser to Hillary Clinton's campaign, or that some 90 percent of political donations by Google employees had gone to Democrats in 2016.) Kent Walker, Google's risk-averse vice president of public policy, had been advising staffers not to do anything that might upset Steve Bannon or Breitbart. So when the travel ban was announced on the afternoon of Friday, January 27, Google executives initially hoped to “just keep heads down and allow it to blow over,” according to an employee who was close to those early calculations. But the tribal dictates of Google's own workforce made lying low pretty much impossible. The former Montessori kids, who founded Google as Stanford grad students in the late '90s, had designed their company's famously open culture to facilitate free thinking. Like other corporations, Google enforces strict policies requiring employees to keep company business confidential. Finally, to a remarkable extent, Google employees really do take “Don't Be Evil” to heart. \"\n",
    "\n"
   ]
  },
  {
   "cell_type": "code",
   "execution_count": null,
   "metadata": {},
   "outputs": [],
   "source": []
  }
 ],
 "metadata": {
  "kernelspec": {
   "display_name": "Python 3",
   "language": "python",
   "name": "python3"
  },
  "language_info": {
   "codemirror_mode": {
    "name": "ipython",
    "version": 3
   },
   "file_extension": ".py",
   "mimetype": "text/x-python",
   "name": "python",
   "nbconvert_exporter": "python",
   "pygments_lexer": "ipython3",
   "version": "3.6.4"
  }
 },
 "nbformat": 4,
 "nbformat_minor": 2
}
