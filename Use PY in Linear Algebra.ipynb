{
 "cells": [
  {
   "cell_type": "markdown",
   "metadata": {},
   "source": [
    "# Use PY in Linear Algebrea\n",
    "<br>\n",
    "\n",
    "## Chapter Zero 乘法和庫\n",
    "<br>\n",
    "### 矩陣和向量的乘法\n",
    "1. 點乘（dot product）：也被稱為「數量積」「內積」「點積」。結果的絕對值是一個向量在另一個向量方向上的投影的長度誠意另一個向量的長度，是一個標量。\n",
    "2. 叉乘（cross product）：也被稱為「向量積」「外積」。對於兩個 $n$ 緯的向量叉乘，結果是一個和 $n-1$ 個向量都垂直的向量，方向符合右手定則。\n",
    "3. 矩陣乘法：代表了線性變換的過程。\n",
    "<br>\n",
    "\n",
    "### python 的 sympy 库 和 numpy 库\n",
    "说明：sympy 用於模擬和理解，numpy 用於實戰。\n",
    "<br> \n",
    "\n",
    "#### sympy\n",
    "`sympy`使用`*`代表矩陣乘法；<br>\n",
    "`sympy`使用`dot`表示點乘；<br>\n",
    "`sympy`使用`cross`表示叉乘<br>\n",
    "`det()`表示行列式；`inv()`表示擬矩陣；`adjugate()`伴隨矩陣<br>\n",
    "\n",
    "#### numpy\n",
    "`numpy`使用`*`表示`array`乘法默認是按照位置的乘法，矩陣`matrix`默認的是矩陣乘法，混合起來的話默認是矩陣乘法；<br>\n",
    "`numpy`使用`dot`表示矩陣`matrix`和`array`的矩陣乘法；<br>\n",
    "`numpy`使用`cross`表示叉乘；<br>\n",
    "`numpy`使用`det()`表示行列式；<br>\n",
    "`.T` 返回自身的轉置；<br>\n",
    "`.H` 返回自身的共軛轉置；<br>\n",
    "`.J` 返回自身的逆矩陣；<br>\n",
    "`.A` 返回自身數據的2維數組的一個視圖（沒有做任何的拷貝）<br>"
   ]
  },
  {
   "cell_type": "markdown",
   "metadata": {},
   "source": [
    "## Chapter One Matrix \n",
    "\n",
    "數學上，一個$m\\times n$的矩陣是由一個$m$行(row)$n$列(column)元素排列成的矩形陣列，矩陣裡的元素可以是數字、符號或者數學式。在圖像處理、人工智能燈領域，使用矩陣來表示和處理數據非常常見。例：<br>\n",
    "$\\mathbf{A}_{2 \\times 3}=\\begin{bmatrix} 5 & 2 & 7 \\\\ 1 & 3 & 4  \\end{bmatrix}$\n",
    "<br>\n",
    "其中，矩陣$A$的下標$2\\times 3$表示$A$是一個2行3列的矩陣。類似的，另一個示例：<br>\n",
    "$\\mathbf{ B }_{ 4 \\times 4 }=\\begin{bmatrix} 5 & 2 & 7 & 6 \\\\ 1 & 3 & 4 & 2 \\\\ 7 & -1 & 9 & 0 \\\\ 8  & 2 & -2 & 3 \\end{bmatrix}$<br>\n",
    "特別的，如果我們要表示矩陣$A$的第二行第二個元素：3，可以使用$A[2,2]$或者$a_{2,2}$。<br><br>\n",
    "在`python`中的`numpy`庫中提供了`ndarrary`類用於儲存高維數組及普通的數組運算，另外提供了`matrix`類用來支持矩陣運算（矩陣乘法）。下面來舉個例子："
   ]
  },
  {
   "cell_type": "code",
   "execution_count": 4,
   "metadata": {},
   "outputs": [
    {
     "name": "stdout",
     "output_type": "stream",
     "text": [
      "[[5 2 7]\n",
      " [1 3 4]]\n",
      "[[15  2  7  6]\n",
      " [ 1  3  4  2]\n",
      " [ 7 -1  9  0]\n",
      " [ 8  2 -2  3]]\n"
     ]
    }
   ],
   "source": [
    "#first method to store the matrix\n",
    "import numpy as np\n",
    "\n",
    "a = np.matrix('5 2 7;1 3 4')\n",
    "b = np.matrix('15 2 7 6;1 3 4 2;7 -1 9 0;8 2 -2 3')\n",
    "print(a)#print matrix a\n",
    "print(b)#print matrix b"
   ]
  },
  {
   "cell_type": "code",
   "execution_count": 6,
   "metadata": {},
   "outputs": [
    {
     "name": "stdout",
     "output_type": "stream",
     "text": [
      "[[5 2 7]\n",
      " [1 3 4]]\n",
      "[[ 5  2  7  6]\n",
      " [ 1  3  4  2]\n",
      " [ 8  2 -2  3]]\n"
     ]
    }
   ],
   "source": [
    "#second method to store the matrix\n",
    "import numpy as np\n",
    "\n",
    "a = np.matrix([[5,2,7],[1,3,4]])\n",
    "b = np.matrix([[5,2,7,6],[1,3,4,2],[8,2,-2,3]])\n",
    "print(a)#print matrix a\n",
    "print(b)#print matrix b"
   ]
  },
  {
   "cell_type": "markdown",
   "metadata": {},
   "source": []
  }
 ],
 "metadata": {
  "kernelspec": {
   "display_name": "Python 3",
   "language": "python",
   "name": "python3"
  },
  "language_info": {
   "codemirror_mode": {
    "name": "ipython",
    "version": 3
   },
   "file_extension": ".py",
   "mimetype": "text/x-python",
   "name": "python",
   "nbconvert_exporter": "python",
   "pygments_lexer": "ipython3",
   "version": "3.5.3"
  }
 },
 "nbformat": 4,
 "nbformat_minor": 2
}
