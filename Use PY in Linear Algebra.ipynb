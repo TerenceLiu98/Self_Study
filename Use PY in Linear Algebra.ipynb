{
 "cells": [
  {
   "cell_type": "markdown",
   "metadata": {},
   "source": [
    "# Use PY in Linear Algebrea\n",
    "<br>\n",
    "\n",
    "## Chapter Zero 乘法和庫\n",
    "<br>\n",
    "### 矩陣和向量的乘法\n",
    "1. 點乘（dot product）：也被稱為「數量積」「內積」「點積」。結果的絕對值是一個向量在另一個向量方向上的投影的長度誠意另一個向量的長度，是一個標量。\n",
    "2. 叉乘（cross product）：也被稱為「向量積」「外積」。對於兩個 $n$ 緯的向量叉乘，結果是一個和 $n-1$ 個向量都垂直的向量，方向符合右手定則。\n",
    "3. 矩陣乘法：代表了線性變換的過程。\n",
    "<br>\n",
    "\n",
    "### python 的 sympy 库 和 numpy 库\n",
    "说明：sympy 用於模擬和理解，numpy 用於實戰。\n",
    "<br> \n",
    "\n",
    "#### sympy\n",
    "`sympy`使用`*`代表矩陣乘法；<br>\n",
    "`sympy`使用`dot`表示點乘；<br>\n",
    "`sympy`使用`cross`表示叉乘<br>\n",
    "`det()`表示行列式；`inv()`表示擬矩陣；`adjugate()`伴隨矩陣<br>\n",
    "\n",
    "#### numpy\n",
    "`numpy`使用`*`表示`array`乘法默認是按照位置的乘法，矩陣`matrix`默認的是矩陣乘法，混合起來的話默認是矩陣乘法；<br>\n",
    "`numpy`使用`dot`表示矩陣`matrix`和`array`的矩陣乘法；<br>\n",
    "`numpy`使用`cross`表示叉乘；<br>\n",
    "`numpy`使用`det()`表示行列式；<br>\n",
    "`.T` 返回自身的轉置；<br>\n",
    "`.H` 返回自身的共軛轉置；<br>\n",
    "`.J` 返回自身的逆矩陣；<br>\n",
    "`.A` 返回自身數據的2維數組的一個視圖（沒有做任何的拷貝）<br>"
   ]
  },
  {
   "cell_type": "markdown",
   "metadata": {},
   "source": [
    "## Chapter One Matrix \n",
    "\n",
    "數學上，一個$m\\times n$的矩陣是由一個$m$行(row)$n$列(column)元素排列成的矩形陣列，矩陣裡的元素可以是數字、符號或者數學式。在圖像處理、人工智能燈領域，使用矩陣來表示和處理數據非常常見。例：<br>\n",
    "$\\mathbf{A}_{2 \\times 3}=\\begin{bmatrix} 5 & 2 & 7 \\\\ 1 & 3 & 4  \\end{bmatrix}$\n",
    "<br>\n",
    "其中，矩陣$A$的下標$2\\times 3$表示$A$是一個2行3列的矩陣。類似的，另一個示例：<br>\n",
    "$\\mathbf{ B }_{ 4 \\times 4 }=\\begin{bmatrix} 5 & 2 & 7 & 6 \\\\ 1 & 3 & 4 & 2 \\\\ 7 & -1 & 9 & 0 \\\\ 8  & 2 & -2 & 3 \\end{bmatrix}$<br>\n",
    "特別的，如果我們要表示矩陣$A$的第二行第二個元素：3，可以使用$A[2,2]$或者$a_{2,2}$。<br><br>\n",
    "在`python`中的`numpy`庫中提供了`ndarrary`類用於儲存高維數組及普通的數組運算，另外提供了`matrix`類用來支持矩陣運算（矩陣乘法）。下面來舉個例子："
   ]
  },
  {
   "cell_type": "code",
   "execution_count": 7,
   "metadata": {},
   "outputs": [
    {
     "name": "stdout",
     "output_type": "stream",
     "text": [
      "[[5 2 7]\n",
      " [1 3 4]]\n",
      "[[15  2  7  6]\n",
      " [ 1  3  4  2]\n",
      " [ 7 -1  9  0]\n",
      " [ 8  2 -2  3]]\n"
     ]
    }
   ],
   "source": [
    "#first method to store the matrix\n",
    "import numpy as np\n",
    "\n",
    "a = np.matrix('5 2 7;1 3 4')\n",
    "b = np.matrix('15 2 7 6;1 3 4 2;7 -1 9 0;8 2 -2 3')\n",
    "print(a)#print matrix a\n",
    "print(b)#print matrix b"
   ]
  },
  {
   "cell_type": "code",
   "execution_count": 8,
   "metadata": {},
   "outputs": [
    {
     "name": "stdout",
     "output_type": "stream",
     "text": [
      "[[5 2 7]\n",
      " [1 3 4]]\n",
      "[[ 5  2  7  6]\n",
      " [ 1  3  4  2]\n",
      " [ 8  2 -2  3]]\n"
     ]
    }
   ],
   "source": [
    "#second method to store the matrix\n",
    "import numpy as np\n",
    "\n",
    "a = np.matrix([[5,2,7],[1,3,4]])\n",
    "b = np.matrix([[5,2,7,6],[1,3,4,2],[8,2,-2,3]])\n",
    "print(a)#print matrix a\n",
    "print(b)#print matrix b"
   ]
  },
  {
   "cell_type": "markdown",
   "metadata": {},
   "source": [
    "這兩種形式完全等效，但是第一種更加直觀，不容易犯錯，所以推薦第一種方式（也很類似`LaTeX`中構成矩陣的寫法）；<br>\n",
    "要把一個`matrix`的對象轉換為`ndarray`對象，可以直接用`getA()`的方法。如果吧`ndarray`對象轉換成`matrx`對象可以用`asmatrix()`方法。"
   ]
  },
  {
   "cell_type": "code",
   "execution_count": 12,
   "metadata": {},
   "outputs": [
    {
     "name": "stdout",
     "output_type": "stream",
     "text": [
      "[[5 2 7]\n",
      " [1 3 4]]\n",
      "<class 'numpy.ndarray'>\n",
      "[[5 2 7]\n",
      " [1 3 4]]\n",
      "<class 'numpy.matrixlib.defmatrix.matrix'>\n"
     ]
    }
   ],
   "source": [
    "b = a.getA()#turn a into ndarray\n",
    "print(b)\n",
    "print(type(b))# the type of b\n",
    "c = np.asmatrix(b)\n",
    "print(c)\n",
    "print(type(c))# the type of c"
   ]
  },
  {
   "cell_type": "markdown",
   "metadata": {},
   "source": [
    "如果你要取出矩陣中的某個值，可以使用類似於數組的下標運算符。但是要注意，計算機的計數方式是從0開始的。例如，要取出$A[2,2]$，應該使用："
   ]
  },
  {
   "cell_type": "code",
   "execution_count": 13,
   "metadata": {},
   "outputs": [
    {
     "data": {
      "text/plain": [
       "3"
      ]
     },
     "execution_count": 13,
     "metadata": {},
     "output_type": "execute_result"
    }
   ],
   "source": [
    "a[1,1]"
   ]
  },
  {
   "cell_type": "markdown",
   "metadata": {},
   "source": [
    "### 運算\n",
    "\n",
    "#### 加\n",
    "矩陣加法的定義非常符合直覺。假設有$\\mathbf{ A }_{ 3 \\times 3 }=\\begin{bmatrix} 1 & 0 & 1 \\\\ 1 & 2 & 1 \\\\ 2 & 1 & 1 \\end{bmatrix}$，$\\mathbf{ B }_{ 3 \\times 3 }=\\begin{bmatrix} 2 & 1 & -1 \\\\ 0 & -1 & 2 \\\\ 2 & -1 & 0 \\end{bmatrix}$，<br> 則：\n",
    "$\\mathbf{A}+\\mathbf{B} = \\begin{bmatrix} 1 & 0 & 1 \\\\ 1 & 2 & 1 \\\\ 2 & 1 & 1 \\end{bmatrix} + \\begin{bmatrix} 2 & 1 & -1 \\\\ 0 & -1 & 2 \\\\ 2 & -1 & 0 \\end{bmatrix} = \\begin{bmatrix} 1+2 & 0+1 & 1+(-1) \\\\ 1+ 0 & 2+(-1) & 1+2 \\\\ 2+2 & 1+(-1) & 1+0 \\end{bmatrix} = \\begin{bmatrix} 3 & 1 & 0 \\\\ 1 & 1 & 3 \\\\ 4 & 0 & 1 \\end{bmatrix}$\n",
    "<br>\n",
    "要注意，兩個矩陣的行數和列數必須相同，否則無定義。下面是`python`示例："
   ]
  },
  {
   "cell_type": "code",
   "execution_count": 21,
   "metadata": {},
   "outputs": [
    {
     "name": "stdout",
     "output_type": "stream",
     "text": [
      "[[3 1 0]\n",
      " [1 1 3]\n",
      " [4 0 1]]\n"
     ]
    }
   ],
   "source": [
    "a = np.matrix('1 0 1;1 2 1;2 1 1')\n",
    "b = np.matrix('2 1 -1;0 -1 2;2 -1 0')\n",
    "print(a+b)# print a+b"
   ]
  },
  {
   "cell_type": "markdown",
   "metadata": {},
   "source": [
    "很容易看出，矩陣的加法滿足交換律和結合律，即$A+B=B+A$，$(A+B)+C=A+(B+C)$。"
   ]
  },
  {
   "cell_type": "markdown",
   "metadata": {},
   "source": [
    "#### 減\n",
    "矩陣減法也和加法一樣簡單。對於上面給出的$A$和$B$，有：<br>\n",
    "$\\mathbf{A}-\\mathbf{B}=\\begin{bmatrix} 1 & 0 & 1 \\\\ 1 & 2 & 1 \\\\ 2 & 1 & 1 \\end{bmatrix}-\\begin{bmatrix} 2 & 1 & -1 \\\\ 0 & -1 & 2 \\\\ 2 & -1 & 0 \\end{bmatrix}=\\begin{bmatrix} 1-2 & 0-1 & 1-(-1) \\\\ 1-0 & 2-(-1) & 1-2 \\\\ 2-2 & 1-(-1) & 1-0 \\end{bmatrix}=\\begin{bmatrix} -1 & -1 & 2 \\\\ 1 & 3 & -1 \\\\ 0 & 2 & 1 \\end{bmatrix}$<br>\n",
    "同樣，相減的兩個矩陣行數和列數必須完全相同，否則無定義。下面是`python`示例："
   ]
  },
  {
   "cell_type": "code",
   "execution_count": 22,
   "metadata": {},
   "outputs": [
    {
     "name": "stdout",
     "output_type": "stream",
     "text": [
      "[[-1 -1  2]\n",
      " [ 1  3 -1]\n",
      " [ 0  2  1]]\n"
     ]
    }
   ],
   "source": [
    "print(a-b)"
   ]
  },
  {
   "cell_type": "markdown",
   "metadata": {},
   "source": [
    "#### 乘\n",
    "矩陣乘法的定義是$A_{i\\times j}$矩陣的每一行的元素分別與$B_{j\\times k}$矩陣的每一列的元素兩兩相乘並詳加，從而，得到新的矩陣$C_{j\\times k$。兩個矩陣能相乘的充份必要條件是第一個矩陣的列數等於第二個矩陣的行數相等，否則，無定義。$\\begin {aligned} \n",
    "\\mathbf{A} \\times \\mathbf{B} &=\\begin{bmatrix} 1 & 0 & 1 \\\\ 1 & 2 & 1 \\\\ 2 & 1 & 1 \\end{bmatrix}\\times \\begin{bmatrix} 2 & 1 & -1 \\\\ 0 & -1 & 2 \\\\ 2 & -1 & 0 \\end{bmatrix} \\\\\\ &=\\begin{bmatrix} 1\\cdot 2+0\\cdot 0+1\\cdot 2 & 1\\cdot 1+0\\cdot (-1)+1\\cdot (-1) & 1\\cdot (-1)+0\\cdot 2+1\\cdot 0 \\\\ 1\\cdot 2+2\\cdot 0+1\\cdot 2 & 1\\cdot 1+2\\cdot (-1)+1\\cdot (-1) & 1\\cdot (-1)+2\\cdot 2+1\\cdot 0 \\\\ 2\\cdot 2+1\\cdot 0+1\\cdot 2 & 2\\cdot 1+1\\cdot (-1)+1\\cdot (-1) & 2\\cdot (-1)+1\\cdot 2+1\\cdot 0 \\end{bmatrix}\\\\\\ &=\\begin{bmatrix} 4 & 0 & -1 \\\\ 4 & -2 & 3 \\\\ 6 & 0 & 0 \\end{bmatrix}\n",
    "\\end {aligned}$"
   ]
  },
  {
   "cell_type": "markdown",
   "metadata": {},
   "source": [
    "再舉一個行列數不同的例子，假設有$\\mathbf{C}_{2 \\times 3} = \\begin{bmatrix} 5 & 7 & 2 \\\\ 4 & 3 & 1 \\end{bmatrix}$和$\\mathbf{D}_{3 \\times 1} = \\begin{bmatrix} 1 \\\\ 5 \\\\ 6 \\end{bmatrix}$，那麼，我們可以得出：$\\mathbf{C}\\times \\mathbf{D} = \\begin{bmatrix} 5 & 7 & 2 \\\\ 4 & 3 & 1 \\end{bmatrix}\\times \\begin{bmatrix} 1 \\\\ 5 \\\\ 6 \\end{bmatrix}\n",
    " =\\begin{bmatrix} 5 \\cdot 1+ 7 \\cdot 5+ 2\\cdot 6 \\\\ 4\\cdot 1+3\\cdot 5+1\\cdot 6  \\end{bmatrix} =\\begin{bmatrix} 52 \\\\ 25 \\end{bmatrix}$"
   ]
  },
  {
   "cell_type": "markdown",
   "metadata": {},
   "source": [
    "與初等代數中學的乘法不同，矩陣的乘法並不滿足交換律，即，$A \\times B \\neq B \\times A$，但是，它滿足分配律：$(A\\times B)\\times C = A\\times (B\\times C)$。<br>\n",
    "再介紹兩個特殊的矩陣：<br>\n",
    "1. 單位矩陣（Identity Matrix）他的特點是與行數和列數相等，對角線上的值都是1，其他值都是0。另一個特點是：它與任意矩陣$A$相乘結果等於$A$。<br>\n",
    "$\\mathbf{I}_{3 \\times 3} = \\begin{bmatrix} 1 & 0 & 0 \\\\ 0 & 1 & 0 \\\\ 0 & 0 & 1 \\end{bmatrix}$這是一個 $3\\times 3$的單位矩陣<br>\n",
    "<br>\n",
    "2. 零矩陣（Null Matrix）顧名思義就是全部元素都是0的矩陣。零矩陣乘以任何矩陣都是零矩陣，與任何矩陣$A$都等於$A$。"
   ]
  },
  {
   "cell_type": "code",
   "execution_count": 23,
   "metadata": {},
   "outputs": [
    {
     "name": "stdout",
     "output_type": "stream",
     "text": [
      "this is a times b:\n",
      "[[ 4  0 -1]\n",
      " [ 4 -2  3]\n",
      " [ 6  0  0]]\n",
      "this is b times a:\n",
      "[[ 1  1  2]\n",
      " [ 3  0  1]\n",
      " [ 1 -2  1]]\n"
     ]
    }
   ],
   "source": [
    "#python示例\n",
    "print(\"this is a times b:\")\n",
    "print(a*b)\n",
    "print(\"this is b times a:\")\n",
    "print(b*a)"
   ]
  },
  {
   "cell_type": "code",
   "execution_count": 24,
   "metadata": {},
   "outputs": [
    {
     "name": "stdout",
     "output_type": "stream",
     "text": [
      "this is c times d:\n",
      "[[52]\n",
      " [25]]\n",
      "this is a times b times d:\n",
      "[[-2]\n",
      " [12]\n",
      " [ 6]]\n",
      "first,we user b times d, then we use a to times the b*d:\n",
      "[[-2]\n",
      " [12]\n",
      " [ 6]]\n",
      "This is a times I:\n",
      "[[ 1.  0.  1.]\n",
      " [ 1.  2.  1.]\n",
      " [ 2.  1.  1.]]\n",
      "This is I times a:\n",
      "[[ 1.  0.  1.]\n",
      " [ 1.  2.  1.]\n",
      " [ 2.  1.  1.]]\n",
      "This is a times z:\n",
      "[[ 0.  0.  0.]\n",
      " [ 0.  0.  0.]\n",
      " [ 0.  0.  0.]]\n",
      "This is z times a:\n",
      "[[ 0.  0.  0.]\n",
      " [ 0.  0.  0.]\n",
      " [ 0.  0.  0.]]\n"
     ]
    }
   ],
   "source": [
    "c = np.matrix('5 7 2;4 3 1')\n",
    "d = np.matrix('1;5;6')\n",
    "print(\"this is c times d:\")\n",
    "print(c*d)\n",
    "print(\"this is a times b times d:\")\n",
    "print(a*b*d)\n",
    "print(\"first,we user b times d, then we use a to times the b*d:\")\n",
    "print(a*(b*d))\n",
    "I = np.eye(3)\n",
    "#we defined I as a 3 by 3 indentity matrix;eye() equals to'I = np.matrix('1 0 0;0 1 0;0 0 1')'\n",
    "print(\"This is a times I:\")\n",
    "print(a*I)\n",
    "print(\"This is I times a:\")\n",
    "print(I*a)\n",
    "z = np.zeros([3,3])\n",
    "#we define z as a 3 by 3 null matrix; np.zeros() equals to'z = np.matrix('0 0 0;0 0 0;0 0 0')'\n",
    "print(\"This is a times z:\")\n",
    "print(a*z)\n",
    "print(\"This is z times a:\")\n",
    "print(z*a)"
   ]
  },
  {
   "cell_type": "markdown",
   "metadata": {},
   "source": [
    "#### ~~除~~（求逆）\n",
    "<br>\n",
    "矩陣中沒有除法這種操作，但是有一個相似的運算，叫做求逆。在線性代數中，給定一個$n$階的方陣$A$ ，若存在一個$n$階矩陣$B$，使得$AB = BA = I_n$，其中$I_n$為$n$階的單位矩陣，則稱$A$是**可逆**的，而$B$則是$A$的逆矩陣，記作：$A^{-1}$。<br>\n",
    "##### 伴隨陣法：\n",
    "$\\mathbf{A}^{-1}=\\frac{1}{|\\mathbf{A}|}\\begin{bmatrix}A_{11} & A_{21} & \\ldots & A_{n1} \\\\ A_{12} & A_{22} & \\ldots & A_{n2} \\\\ \\ldots & \\ldots & \\ldots & \\ldots \\\\ A_{1n} & A_{2n} & \\ldots & A_{nn} \\end{bmatrix}$，其中$A_{ij}$是$|A|$中元素$a_{ij}$的代數余子式。\n",
    "<br>\n",
    "矩陣$\\begin{bmatrix}A_{11} & A_{21} & \\ldots & A_{n1} \\\\ A_{12} & A_{22} & \\ldots & A_{n2} \\\\ \\ldots & \\ldots & \\ldots & \\ldots \\\\ A_{1n} & A_{2n} & \\ldots & A_{nn} \\end{bmatrix}$稱為矩陣$A$ 的伴隨矩陣，記作$A*$\n",
    "<br>\n",
    "##### 初等變換法：\n",
    "如果矩陣$A$和$B$互逆，則$AB=BA=I$。由$AB=BA$可以得出：兩個矩陣都是方陣；由$AB=I$以及定理“兩個矩陣的乘積的行列式等於兩個矩陣的行列式的乘積”可得：兩個矩陣的行列式不等於零。現在假設三階矩陣${ \\mathbf{A} }_{ 3 \\times 3 }=\\begin{bmatrix} 1 & 0 & 1 \\\\ 1 & 2 & 1 \\\\ 2 & 1 & 1 \\end{bmatrix}$，則：<br>\n",
    "$\\begin{aligned}\n",
    "\\begin{bmatrix}\\mathbf{A} \\mathbf{I}\\end{bmatrix} \n",
    "& \\rightarrow \n",
    "\\begin{bmatrix} \n",
    "1 & 0 & 1 & 1 & 0 & 0 \\\\\n",
    "1 & 2 & 1 & 0 & 1 & 0 \\\\\n",
    "2 & 1 & 1 & 0 & 0 & 1\n",
    "\\end{bmatrix} \n",
    "\\rightarrow \n",
    "\\begin{bmatrix} \n",
    "1 & 0 & 1 & 1 & 0 & 0 \\\\\n",
    "0 & 2 & 0 & -1 & 1 & 0 \\\\\n",
    "2 & 1 & 1 & 0 & 0 & 1\n",
    "\\end{bmatrix}\n",
    "\\rightarrow \n",
    "\\begin{bmatrix} \n",
    "1 & 0 & 1 & 1 & 0 & 0 \\\\\n",
    "0 & 1 & 0 & -0.5 & 0.5 & 0 \\\\\n",
    "2 & 1 & 1 & 0 & 0 & 1\n",
    "\\end{bmatrix}\\\\\n",
    "& \\rightarrow \n",
    "\\begin{bmatrix} \n",
    "1 & 0 & 1 & 1 & 0 & 0 \\\\\n",
    "0 & 1 & 0 & -0.5 & 0.5 & 0 \\\\\n",
    "1 & 1 & 0 & -1 & 0 & 1\n",
    "\\end{bmatrix}\n",
    "\\rightarrow \n",
    "\\begin{bmatrix} \n",
    "1 & 0 & 1 & 1 & 0 & 0 \\\\\n",
    "0 & 1 & 0 & -0.5 & 0.5 & 0 \\\\\n",
    "1 & 0 & 0 & -0.5 & -0.5 & 1\n",
    "\\end{bmatrix}\n",
    "\\rightarrow \n",
    "\\begin{bmatrix} \n",
    "0 & 0 & 1 & 1.5 & 0.5 & -1 \\\\\n",
    "0 & 1 & 0 & 0 & 0.5 & 0 \\\\\n",
    "1 & 0 & 0 & -0.5 & -0.5 & 1\n",
    "\\end{bmatrix}\\\\\n",
    "&\\rightarrow \n",
    "\\begin{bmatrix} \n",
    "1 & 0 & 0 & -0.5 & -0.5 & 1 \\\\\n",
    "0 & 1 & 0 & -0.5 & 0.5 & 0 \\\\\n",
    "0 & 0 & 1 & 1.5 & 0.5 & -1\n",
    "\\end{bmatrix}\n",
    "\\end{aligned}$\n",
    "<br>\n",
    "所以：$\\mathbf{A}^{-1}=\\begin{bmatrix}-0.5 & -0.5 & 1 \\\\ -0.5 & 0.5 & 0 \\\\ 1.5 & 0.5 & -1\\end{bmatrix}$"
   ]
  },
  {
   "cell_type": "markdown",
   "metadata": {},
   "source": [
    "### 奇異矩陣（Singular Matrix）\n",
    "如果一個方陣$A$滿足條件$|A|(det(A))\\neq 0$，則稱$A$為非奇異矩陣（non-singular matrix），否則則稱為奇異矩陣。簡單的說**沒有逆矩陣的矩陣就是奇異矩陣，有逆矩陣的矩陣就是非奇異矩陣**<br>\n",
    "`python`求逆示例："
   ]
  },
  {
   "cell_type": "code",
   "execution_count": 25,
   "metadata": {},
   "outputs": [
    {
     "name": "stdout",
     "output_type": "stream",
     "text": [
      "[[-0.5 -0.5  1. ]\n",
      " [-0.5  0.5  0. ]\n",
      " [ 1.5  0.5 -1. ]]\n",
      "[[ 1.  0.  0.]\n",
      " [ 0.  1.  0.]\n",
      " [ 0.  0.  1.]]\n"
     ]
    },
    {
     "ename": "LinAlgError",
     "evalue": "Singular matrix",
     "output_type": "error",
     "traceback": [
      "\u001b[0;31m---------------------------------------------------------------------------\u001b[0m",
      "\u001b[0;31mLinAlgError\u001b[0m                               Traceback (most recent call last)",
      "\u001b[0;32m<ipython-input-25-1eb1f973238a>\u001b[0m in \u001b[0;36m<module>\u001b[0;34m()\u001b[0m\n\u001b[1;32m      3\u001b[0m \u001b[0mprint\u001b[0m\u001b[0;34m(\u001b[0m\u001b[0ma\u001b[0m\u001b[0;34m*\u001b[0m\u001b[0ma\u001b[0m\u001b[0;34m.\u001b[0m\u001b[0mI\u001b[0m\u001b[0;34m)\u001b[0m\u001b[0;34m\u001b[0m\u001b[0m\n\u001b[1;32m      4\u001b[0m \u001b[0mf\u001b[0m \u001b[0;34m=\u001b[0m \u001b[0mnp\u001b[0m\u001b[0;34m.\u001b[0m\u001b[0mmatrix\u001b[0m\u001b[0;34m(\u001b[0m\u001b[0;34m'0 1;0 0'\u001b[0m\u001b[0;34m)\u001b[0m\u001b[0;34m\u001b[0m\u001b[0m\n\u001b[0;32m----> 5\u001b[0;31m \u001b[0mprint\u001b[0m\u001b[0;34m(\u001b[0m\u001b[0mf\u001b[0m\u001b[0;34m.\u001b[0m\u001b[0mI\u001b[0m\u001b[0;34m)\u001b[0m\u001b[0;34m\u001b[0m\u001b[0m\n\u001b[0m",
      "\u001b[0;32m/usr/lib/python3/dist-packages/numpy/matrixlib/defmatrix.py\u001b[0m in \u001b[0;36mgetI\u001b[0;34m(self)\u001b[0m\n\u001b[1;32m    970\u001b[0m         \u001b[0;32melse\u001b[0m\u001b[0;34m:\u001b[0m\u001b[0;34m\u001b[0m\u001b[0m\n\u001b[1;32m    971\u001b[0m             \u001b[0;32mfrom\u001b[0m \u001b[0mnumpy\u001b[0m\u001b[0;34m.\u001b[0m\u001b[0mdual\u001b[0m \u001b[0;32mimport\u001b[0m \u001b[0mpinv\u001b[0m \u001b[0;32mas\u001b[0m \u001b[0mfunc\u001b[0m\u001b[0;34m\u001b[0m\u001b[0m\n\u001b[0;32m--> 972\u001b[0;31m         \u001b[0;32mreturn\u001b[0m \u001b[0masmatrix\u001b[0m\u001b[0;34m(\u001b[0m\u001b[0mfunc\u001b[0m\u001b[0;34m(\u001b[0m\u001b[0mself\u001b[0m\u001b[0;34m)\u001b[0m\u001b[0;34m)\u001b[0m\u001b[0;34m\u001b[0m\u001b[0m\n\u001b[0m\u001b[1;32m    973\u001b[0m \u001b[0;34m\u001b[0m\u001b[0m\n\u001b[1;32m    974\u001b[0m     \u001b[0;32mdef\u001b[0m \u001b[0mgetA\u001b[0m\u001b[0;34m(\u001b[0m\u001b[0mself\u001b[0m\u001b[0;34m)\u001b[0m\u001b[0;34m:\u001b[0m\u001b[0;34m\u001b[0m\u001b[0m\n",
      "\u001b[0;32m/usr/lib/python3/dist-packages/numpy/linalg/linalg.py\u001b[0m in \u001b[0;36minv\u001b[0;34m(a)\u001b[0m\n\u001b[1;32m    524\u001b[0m     \u001b[0msignature\u001b[0m \u001b[0;34m=\u001b[0m \u001b[0;34m'D->D'\u001b[0m \u001b[0;32mif\u001b[0m \u001b[0misComplexType\u001b[0m\u001b[0;34m(\u001b[0m\u001b[0mt\u001b[0m\u001b[0;34m)\u001b[0m \u001b[0;32melse\u001b[0m \u001b[0;34m'd->d'\u001b[0m\u001b[0;34m\u001b[0m\u001b[0m\n\u001b[1;32m    525\u001b[0m     \u001b[0mextobj\u001b[0m \u001b[0;34m=\u001b[0m \u001b[0mget_linalg_error_extobj\u001b[0m\u001b[0;34m(\u001b[0m\u001b[0m_raise_linalgerror_singular\u001b[0m\u001b[0;34m)\u001b[0m\u001b[0;34m\u001b[0m\u001b[0m\n\u001b[0;32m--> 526\u001b[0;31m     \u001b[0mainv\u001b[0m \u001b[0;34m=\u001b[0m \u001b[0m_umath_linalg\u001b[0m\u001b[0;34m.\u001b[0m\u001b[0minv\u001b[0m\u001b[0;34m(\u001b[0m\u001b[0ma\u001b[0m\u001b[0;34m,\u001b[0m \u001b[0msignature\u001b[0m\u001b[0;34m=\u001b[0m\u001b[0msignature\u001b[0m\u001b[0;34m,\u001b[0m \u001b[0mextobj\u001b[0m\u001b[0;34m=\u001b[0m\u001b[0mextobj\u001b[0m\u001b[0;34m)\u001b[0m\u001b[0;34m\u001b[0m\u001b[0m\n\u001b[0m\u001b[1;32m    527\u001b[0m     \u001b[0;32mreturn\u001b[0m \u001b[0mwrap\u001b[0m\u001b[0;34m(\u001b[0m\u001b[0mainv\u001b[0m\u001b[0;34m.\u001b[0m\u001b[0mastype\u001b[0m\u001b[0;34m(\u001b[0m\u001b[0mresult_t\u001b[0m\u001b[0;34m,\u001b[0m \u001b[0mcopy\u001b[0m\u001b[0;34m=\u001b[0m\u001b[0;32mFalse\u001b[0m\u001b[0;34m)\u001b[0m\u001b[0;34m)\u001b[0m\u001b[0;34m\u001b[0m\u001b[0m\n\u001b[1;32m    528\u001b[0m \u001b[0;34m\u001b[0m\u001b[0m\n",
      "\u001b[0;32m/usr/lib/python3/dist-packages/numpy/linalg/linalg.py\u001b[0m in \u001b[0;36m_raise_linalgerror_singular\u001b[0;34m(err, flag)\u001b[0m\n\u001b[1;32m     88\u001b[0m \u001b[0;34m\u001b[0m\u001b[0m\n\u001b[1;32m     89\u001b[0m \u001b[0;32mdef\u001b[0m \u001b[0m_raise_linalgerror_singular\u001b[0m\u001b[0;34m(\u001b[0m\u001b[0merr\u001b[0m\u001b[0;34m,\u001b[0m \u001b[0mflag\u001b[0m\u001b[0;34m)\u001b[0m\u001b[0;34m:\u001b[0m\u001b[0;34m\u001b[0m\u001b[0m\n\u001b[0;32m---> 90\u001b[0;31m     \u001b[0;32mraise\u001b[0m \u001b[0mLinAlgError\u001b[0m\u001b[0;34m(\u001b[0m\u001b[0;34m\"Singular matrix\"\u001b[0m\u001b[0;34m)\u001b[0m\u001b[0;34m\u001b[0m\u001b[0m\n\u001b[0m\u001b[1;32m     91\u001b[0m \u001b[0;34m\u001b[0m\u001b[0m\n\u001b[1;32m     92\u001b[0m \u001b[0;32mdef\u001b[0m \u001b[0m_raise_linalgerror_nonposdef\u001b[0m\u001b[0;34m(\u001b[0m\u001b[0merr\u001b[0m\u001b[0;34m,\u001b[0m \u001b[0mflag\u001b[0m\u001b[0;34m)\u001b[0m\u001b[0;34m:\u001b[0m\u001b[0;34m\u001b[0m\u001b[0m\n",
      "\u001b[0;31mLinAlgError\u001b[0m: Singular matrix"
     ]
    }
   ],
   "source": [
    "a = np.matrix('1 0 1; 1 2 1; 2 1 1')\n",
    "print(a.I) #the inverse of matrix a \n",
    "print(a*a.I) #a times a inverse equals to indentity matrix\n",
    "f = np.matrix('0 1;0 0')\n",
    "print(f.I)#because f has no inverse, f is a singular matrix"
   ]
  },
  {
   "cell_type": "markdown",
   "metadata": {},
   "source": [
    "### 矩陣的轉置（Transport）\n",
    "在線性代數中，矩陣$A$的轉置是另一個矩陣$A^T$，如下所示：<br>\n",
    "* 把$A$的橫行寫成$A^T$的縱列；\n",
    "* 把$A$的縱列寫成$A^T$的橫行；\n",
    "形式上說就是，$m\\times n$的矩陣$A$的轉置是$n\\times m$矩陣。<br>\n",
    "矩陣$\\underset{m\\times n}{\\mathbf{A}} = \\begin{bmatrix}a_{11} & a_{12} & \\ldots & a_{1n} \\\\ a_{21} & a_{22} & \\ldots & a_{2n} \\\\ \\ldots \\\\ a_{m1} & a_{m2} & \\ldots & a_{mn}\\end{bmatrix}$的轉置定義為$\\underset{n\\times n}{A^{T}} = \\begin{bmatrix}a_{11} & a_{21} & \\ldots & a_{m1} \\\\ a_{12} & a_{22} & \\ldots & a_{m2} \\\\ \\ldots \\\\ a_{1n} & a_{2n} & \\ldots & a_{mn}\\end{bmatrix}$"
   ]
  },
  {
   "cell_type": "code",
   "execution_count": 27,
   "metadata": {},
   "outputs": [
    {
     "name": "stdout",
     "output_type": "stream",
     "text": [
      "[[2 1]\n",
      " [4 3]] [[2 4]\n",
      " [1 3]]\n",
      "[[1 4]\n",
      " [2 5]\n",
      " [3 6]]\n"
     ]
    }
   ],
   "source": [
    "#python 示例：\n",
    "a = np.matrix('2 4;1 3')\n",
    "print(a.T)#the transport of a\n",
    "b = np.matrix('1 2 3;4 5 6')\n",
    "print(b.T)#the transport of b"
   ]
  },
  {
   "cell_type": "markdown",
   "metadata": {},
   "source": [
    "**特別的，矩陣的轉置有一個性質：矩陣的轉置等於矩陣調換後分別做轉置的乘積：$（A\\bullet B)^T = B^T\\bullet A^T$**"
   ]
  },
  {
   "cell_type": "code",
   "execution_count": 29,
   "metadata": {},
   "outputs": [
    {
     "name": "stdout",
     "output_type": "stream",
     "text": [
      "[[10  7]\n",
      " [32 21]]\n",
      "[[10  7]\n",
      " [32 21]]\n"
     ]
    }
   ],
   "source": [
    "a = np.matrix('2 4;1 3')\n",
    "b = np.matrix('1 6;2 5')\n",
    "c = a*b\n",
    "print(c.T)\n",
    "print(b.T*a.T)"
   ]
  },
  {
   "cell_type": "code",
   "execution_count": null,
   "metadata": {},
   "outputs": [],
   "source": []
  },
  {
   "cell_type": "code",
   "execution_count": 58,
   "metadata": {},
   "outputs": [
    {
     "data": {
      "text/plain": [
       "[<matplotlib.lines.Line2D at 0x6e8e36b0>,\n",
       " <matplotlib.lines.Line2D at 0x6e8e3770>]"
      ]
     },
     "execution_count": 58,
     "metadata": {},
     "output_type": "execute_result"
    },
    {
     "data": {
      "image/png": "[encoded data removed]",
      "text/plain": [
       "<matplotlib.figure.Figure at 0x6eb573d0>"
      ]
     },
     "metadata": {},
     "output_type": "display_data"
    }
   ],
   "source": [
    "import numpy as np\n",
    "import matplotlib.pyplot as plt\n",
    "from pylab import *\n",
    "\n",
    "xlim(-3, 3)\n",
    "ylim(0, 3.5)\n",
    "plt.plot([0,2.5],[3.5,0],'blue',[-1,3],[0,3.5],'red')"
   ]
  },
  {
   "cell_type": "markdown",
   "metadata": {},
   "source": [
    "可以用矩陣表示成：$\\begin{bmatrix}\n",
    "3 & 2 \\\\\n",
    "-1 & 1\n",
    "\\end{bmatrix}\n",
    "\\begin{bmatrix}\n",
    "x \\\\\n",
    "y\n",
    "\\end{bmatrix}\n",
    "=\n",
    "\\begin{bmatrix}\n",
    "7\\\\\n",
    "1\n",
    "\\end{bmatrix}$\n",
    "<br>\n",
    "設$\\begin{bmatrix}3 & 2 \\\\-1 & 1\\end{bmatrix}$為矩陣$A$，將等式兩邊左乘一個$A$的逆，就可以得到：<br>\n",
    "$\\begin{aligned}\n",
    "A^{-1}A\n",
    "\\begin{bmatrix}\n",
    "x \\\\ y\n",
    "\\end{bmatrix}\n",
    "&= \n",
    "A^{-1}\n",
    "\\begin{bmatrix}\n",
    "7\\\\\n",
    "1\n",
    "\\end{bmatrix}\\\\\\\n",
    "&=\n",
    "\\frac{1}{|A|}\\begin{bmatrix}1 & -2 \\\\ 1 & 3\\end{bmatrix}\n",
    "\\begin{bmatrix}\n",
    "7\\\\\n",
    "1\n",
    "\\end{bmatrix}\\\\\\\n",
    "&=\n",
    "\\frac{1}{5}\\begin{bmatrix}1 & -2 \\\\ 1 & 3\\end{bmatrix}\n",
    "\\begin{bmatrix}\n",
    "7\\\\\n",
    "1\n",
    "\\end{bmatrix}\\\\\\\n",
    "&=\n",
    "\\frac{1}{5}\\begin{bmatrix}5 \\\\ 10\\end{bmatrix}\n",
    "\\end{aligned}$<br>\n",
    "因此，"
   ]
  },
  {
   "cell_type": "code",
   "execution_count": null,
   "metadata": {},
   "outputs": [],
   "source": []
  },
  {
   "cell_type": "code",
   "execution_count": null,
   "metadata": {},
   "outputs": [],
   "source": []
  },
  {
   "cell_type": "code",
   "execution_count": null,
   "metadata": {},
   "outputs": [],
   "source": []
  },
  {
   "cell_type": "code",
   "execution_count": null,
   "metadata": {},
   "outputs": [],
   "source": []
  },
  {
   "cell_type": "code",
   "execution_count": null,
   "metadata": {},
   "outputs": [],
   "source": []
  },
  {
   "cell_type": "code",
   "execution_count": null,
   "metadata": {},
   "outputs": [],
   "source": []
  },
  {
   "cell_type": "code",
   "execution_count": null,
   "metadata": {},
   "outputs": [],
   "source": []
  }
 ],
 "metadata": {
  "kernelspec": {
   "display_name": "Python 3",
   "language": "python",
   "name": "python3"
  },
  "language_info": {
   "codemirror_mode": {
    "name": "ipython",
    "version": 3
   },
   "file_extension": ".py",
   "mimetype": "text/x-python",
   "name": "python",
   "nbconvert_exporter": "python",
   "pygments_lexer": "ipython3",
   "version": "3.5.3"
  }
 },
 "nbformat": 4,
 "nbformat_minor": 2
}
